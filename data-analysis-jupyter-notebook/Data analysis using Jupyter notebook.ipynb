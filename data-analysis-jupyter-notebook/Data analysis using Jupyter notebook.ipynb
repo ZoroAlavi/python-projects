{
 "cells": [
  {
   "cell_type": "code",
   "execution_count": 74,
   "id": "considerable-strip",
   "metadata": {},
   "outputs": [],
   "source": [
    "import pandas as pd\n",
    "from   sqlalchemy import create_engine\n",
    "import matplotlib.pyplot as plt\n",
    "from geopy.geocoders import Nominatim\n",
    "import numpy as np\n",
    "import plotly.express as px"
   ]
  },
  {
   "cell_type": "code",
   "execution_count": 3,
   "id": "initial-lexington",
   "metadata": {},
   "outputs": [],
   "source": [
    "# The data file path and file name need to be configured.\n",
    "PATH     = \"D:\\\\marese\\\\term 2\\\\Python Fundamentals for Data Analysis\\\\5\\\\\"\n",
    "CSV_DATA = \"brazil_forestFires.csv\""
   ]
  },
  {
   "cell_type": "code",
   "execution_count": 4,
   "id": "considered-outdoors",
   "metadata": {},
   "outputs": [
    {
     "name": "stdout",
     "output_type": "stream",
     "text": [
      "      year      state     month  number        date\n",
      "6213  2015  Tocantins  Dezembro   373.0  2015-01-01\n",
      "6214  2016  Tocantins  Dezembro   119.0  2016-01-01\n"
     ]
    }
   ],
   "source": [
    "# read the csv file into a DF and print the tail\n",
    "df = pd.read_csv(PATH + CSV_DATA, skiprows=1,  encoding = \"ISO-8859-1\", sep=',',\n",
    "                 names=('year', 'state',  'month', 'number','date', ))\n",
    "print(df.tail(2))\n"
   ]
  },
  {
   "cell_type": "code",
   "execution_count": 5,
   "id": "friendly-edmonton",
   "metadata": {},
   "outputs": [],
   "source": [
    "# for practice we create a sqlite DB and ingest the DF into the DB\n",
    "DB_FILE    = 'forestFire.db'\n",
    "engine     = create_engine('sqlite:///' + PATH + DB_FILE, echo=False)\n",
    "connection = engine.connect()\n",
    "\n",
    "# Store data in database in a table named 'brazilForest'. \n",
    "df.to_sql(name='brazilForest', con=connection, if_exists='replace', index=False)\n"
   ]
  },
  {
   "cell_type": "code",
   "execution_count": 6,
   "id": "fatty-april",
   "metadata": {},
   "outputs": [],
   "source": [
    "# Placed query in this function to enable code re-usuability.\n",
    "def showQueryResult(sql_query, dbconnection):\n",
    "    print(\"\\n*** Showing SQL statement\")\n",
    "    print(sql_query)\n",
    "    # Perform query\n",
    "    subDf = pd.read_sql(sql_query, dbconnection)\n",
    "    return subDf\n",
    "\n"
   ]
  },
  {
   "cell_type": "code",
   "execution_count": 7,
   "id": "prescribed-typing",
   "metadata": {},
   "outputs": [
    {
     "name": "stdout",
     "output_type": "stream",
     "text": [
      "\n",
      "*** Showing SQL statement\n",
      "SELECT * FROM brazilForest WHERE state = 'Rio' OR state='Sao Paulo'  ORDER BY date\n"
     ]
    }
   ],
   "source": [
    "# Get DataFrame contents for 'Rio' and 'Sao Paulo' only.\n",
    "sql1    = \"SELECT * FROM \" + \"brazilForest\" \\\n",
    "       + \" WHERE state = 'Rio' OR state='Sao Paulo' \" \\\n",
    "       + \" ORDER BY date\"\n",
    "       \n",
    "newDf = showQueryResult(sql1, connection)"
   ]
  },
  {
   "cell_type": "code",
   "execution_count": 8,
   "id": "active-intent",
   "metadata": {},
   "outputs": [
    {
     "name": "stdout",
     "output_type": "stream",
     "text": [
      "     year      state      month   number        date\n",
      "0    1998        Rio    Janeiro    0.000  1998-01-01\n",
      "1    1998        Rio  Fevereiro    0.000  1998-01-01\n",
      "2    1998        Rio      Março    0.000  1998-01-01\n",
      "3    1998        Rio      Abril    0.000  1998-01-01\n",
      "4    1998        Rio       Maio    0.000  1998-01-01\n",
      "..    ...        ...        ...      ...         ...\n",
      "951  2017  Sao Paulo      Julho  802.000  2017-01-01\n",
      "952  2017  Sao Paulo     Agosto  981.000  2017-01-01\n",
      "953  2017  Sao Paulo   Setembro    2.868  2017-01-01\n",
      "954  2017  Sao Paulo    Outubro  179.000  2017-01-01\n",
      "955  2017  Sao Paulo   Novembro   37.000  2017-01-01\n",
      "\n",
      "[956 rows x 5 columns]\n"
     ]
    }
   ],
   "source": [
    "print(newDf)"
   ]
  },
  {
   "cell_type": "code",
   "execution_count": 9,
   "id": "pregnant-sweet",
   "metadata": {},
   "outputs": [],
   "source": [
    "sql = \"SELECT * FROM \" + \"brazilForest\" \\\n",
    "       + \" ORDER BY date\""
   ]
  },
  {
   "cell_type": "code",
   "execution_count": 10,
   "id": "worldwide-brother",
   "metadata": {},
   "outputs": [
    {
     "name": "stdout",
     "output_type": "stream",
     "text": [
      "\n",
      "*** Showing SQL statement\n",
      "SELECT * FROM brazilForest ORDER BY date\n"
     ]
    },
    {
     "data": {
      "text/html": [
       "<div>\n",
       "<style scoped>\n",
       "    .dataframe tbody tr th:only-of-type {\n",
       "        vertical-align: middle;\n",
       "    }\n",
       "\n",
       "    .dataframe tbody tr th {\n",
       "        vertical-align: top;\n",
       "    }\n",
       "\n",
       "    .dataframe thead th {\n",
       "        text-align: right;\n",
       "    }\n",
       "</style>\n",
       "<table border=\"1\" class=\"dataframe\">\n",
       "  <thead>\n",
       "    <tr style=\"text-align: right;\">\n",
       "      <th></th>\n",
       "      <th>year</th>\n",
       "      <th>state</th>\n",
       "      <th>month</th>\n",
       "      <th>number</th>\n",
       "      <th>date</th>\n",
       "    </tr>\n",
       "  </thead>\n",
       "  <tbody>\n",
       "    <tr>\n",
       "      <th>0</th>\n",
       "      <td>1998</td>\n",
       "      <td>Alagoas</td>\n",
       "      <td>Janeiro</td>\n",
       "      <td>0.000</td>\n",
       "      <td>1998-01-01</td>\n",
       "    </tr>\n",
       "    <tr>\n",
       "      <th>1</th>\n",
       "      <td>1998</td>\n",
       "      <td>Alagoas</td>\n",
       "      <td>Fevereiro</td>\n",
       "      <td>0.000</td>\n",
       "      <td>1998-01-01</td>\n",
       "    </tr>\n",
       "    <tr>\n",
       "      <th>2</th>\n",
       "      <td>1998</td>\n",
       "      <td>Alagoas</td>\n",
       "      <td>Março</td>\n",
       "      <td>0.000</td>\n",
       "      <td>1998-01-01</td>\n",
       "    </tr>\n",
       "    <tr>\n",
       "      <th>3</th>\n",
       "      <td>1998</td>\n",
       "      <td>Alagoas</td>\n",
       "      <td>Abril</td>\n",
       "      <td>0.000</td>\n",
       "      <td>1998-01-01</td>\n",
       "    </tr>\n",
       "    <tr>\n",
       "      <th>4</th>\n",
       "      <td>1998</td>\n",
       "      <td>Alagoas</td>\n",
       "      <td>Maio</td>\n",
       "      <td>0.000</td>\n",
       "      <td>1998-01-01</td>\n",
       "    </tr>\n",
       "    <tr>\n",
       "      <th>...</th>\n",
       "      <td>...</td>\n",
       "      <td>...</td>\n",
       "      <td>...</td>\n",
       "      <td>...</td>\n",
       "      <td>...</td>\n",
       "    </tr>\n",
       "    <tr>\n",
       "      <th>6210</th>\n",
       "      <td>2017</td>\n",
       "      <td>Tocantins</td>\n",
       "      <td>Julho</td>\n",
       "      <td>2.397</td>\n",
       "      <td>2017-01-01</td>\n",
       "    </tr>\n",
       "    <tr>\n",
       "      <th>6211</th>\n",
       "      <td>2017</td>\n",
       "      <td>Tocantins</td>\n",
       "      <td>Agosto</td>\n",
       "      <td>3.536</td>\n",
       "      <td>2017-01-01</td>\n",
       "    </tr>\n",
       "    <tr>\n",
       "      <th>6212</th>\n",
       "      <td>2017</td>\n",
       "      <td>Tocantins</td>\n",
       "      <td>Setembro</td>\n",
       "      <td>10.737</td>\n",
       "      <td>2017-01-01</td>\n",
       "    </tr>\n",
       "    <tr>\n",
       "      <th>6213</th>\n",
       "      <td>2017</td>\n",
       "      <td>Tocantins</td>\n",
       "      <td>Outubro</td>\n",
       "      <td>2.969</td>\n",
       "      <td>2017-01-01</td>\n",
       "    </tr>\n",
       "    <tr>\n",
       "      <th>6214</th>\n",
       "      <td>2017</td>\n",
       "      <td>Tocantins</td>\n",
       "      <td>Novembro</td>\n",
       "      <td>434.000</td>\n",
       "      <td>2017-01-01</td>\n",
       "    </tr>\n",
       "  </tbody>\n",
       "</table>\n",
       "<p>6215 rows × 5 columns</p>\n",
       "</div>"
      ],
      "text/plain": [
       "      year      state      month   number        date\n",
       "0     1998    Alagoas    Janeiro    0.000  1998-01-01\n",
       "1     1998    Alagoas  Fevereiro    0.000  1998-01-01\n",
       "2     1998    Alagoas      Março    0.000  1998-01-01\n",
       "3     1998    Alagoas      Abril    0.000  1998-01-01\n",
       "4     1998    Alagoas       Maio    0.000  1998-01-01\n",
       "...    ...        ...        ...      ...         ...\n",
       "6210  2017  Tocantins      Julho    2.397  2017-01-01\n",
       "6211  2017  Tocantins     Agosto    3.536  2017-01-01\n",
       "6212  2017  Tocantins   Setembro   10.737  2017-01-01\n",
       "6213  2017  Tocantins    Outubro    2.969  2017-01-01\n",
       "6214  2017  Tocantins   Novembro  434.000  2017-01-01\n",
       "\n",
       "[6215 rows x 5 columns]"
      ]
     },
     "execution_count": 10,
     "metadata": {},
     "output_type": "execute_result"
    }
   ],
   "source": [
    "newDf = showQueryResult(sql, connection)\n",
    "newDf"
   ]
  },
  {
   "cell_type": "markdown",
   "id": "boxed-wages",
   "metadata": {},
   "source": []
  },
  {
   "cell_type": "markdown",
   "id": "surface-jacksonville",
   "metadata": {},
   "source": [
    "# Data Cleaning\n",
    "We can already see that there are non-integer values recorded as number of wildfires for some cities. This could be due to improper data recording, for now we will eliminate records that are not integer, but in a real problem we would have to gather some information about the data recording process and find the best method to replace/clean these values.\n",
    "Another method we could use to replace these values, is by averaging the neighbouring years and replace the value with the integer part of that value."
   ]
  },
  {
   "cell_type": "code",
   "execution_count": 11,
   "id": "oriental-attempt",
   "metadata": {},
   "outputs": [],
   "source": [
    "def isInteger(num):\n",
    "    if (num-int(num) == 0):\n",
    "        return True\n",
    "    else:\n",
    "        return False"
   ]
  },
  {
   "cell_type": "code",
   "execution_count": 12,
   "id": "sustainable-present",
   "metadata": {},
   "outputs": [],
   "source": [
    "# eliminate all records with non-integer \"number\"s\n",
    "newDf['isInteger'] = newDf['number'].apply(isInteger)"
   ]
  },
  {
   "cell_type": "code",
   "execution_count": 13,
   "id": "sophisticated-assumption",
   "metadata": {},
   "outputs": [],
   "source": [
    "newDf = newDf[newDf[\"isInteger\"] == True]"
   ]
  },
  {
   "cell_type": "markdown",
   "id": "painful-validation",
   "metadata": {},
   "source": [
    "We can see that we eliminated almost around 1000 data points by removing non-integer numbers. \n",
    "Now we want to look at the trend of forest fires over the years in different states."
   ]
  },
  {
   "cell_type": "code",
   "execution_count": 14,
   "id": "metric-flooring",
   "metadata": {},
   "outputs": [
    {
     "data": {
      "text/html": [
       "<div>\n",
       "<style scoped>\n",
       "    .dataframe tbody tr th:only-of-type {\n",
       "        vertical-align: middle;\n",
       "    }\n",
       "\n",
       "    .dataframe tbody tr th {\n",
       "        vertical-align: top;\n",
       "    }\n",
       "\n",
       "    .dataframe thead th {\n",
       "        text-align: right;\n",
       "    }\n",
       "</style>\n",
       "<table border=\"1\" class=\"dataframe\">\n",
       "  <thead>\n",
       "    <tr style=\"text-align: right;\">\n",
       "      <th></th>\n",
       "      <th></th>\n",
       "      <th>number</th>\n",
       "      <th>isInteger</th>\n",
       "    </tr>\n",
       "    <tr>\n",
       "      <th>year</th>\n",
       "      <th>state</th>\n",
       "      <th></th>\n",
       "      <th></th>\n",
       "    </tr>\n",
       "  </thead>\n",
       "  <tbody>\n",
       "    <tr>\n",
       "      <th rowspan=\"5\" valign=\"top\">1998</th>\n",
       "      <th>Alagoas</th>\n",
       "      <td>86.0</td>\n",
       "      <td>12</td>\n",
       "    </tr>\n",
       "    <tr>\n",
       "      <th>Amapa</th>\n",
       "      <td>278.0</td>\n",
       "      <td>12</td>\n",
       "    </tr>\n",
       "    <tr>\n",
       "      <th>Amazonas</th>\n",
       "      <td>946.0</td>\n",
       "      <td>12</td>\n",
       "    </tr>\n",
       "    <tr>\n",
       "      <th>Bahia</th>\n",
       "      <td>1220.0</td>\n",
       "      <td>10</td>\n",
       "    </tr>\n",
       "    <tr>\n",
       "      <th>Ceara</th>\n",
       "      <td>1611.0</td>\n",
       "      <td>11</td>\n",
       "    </tr>\n",
       "    <tr>\n",
       "      <th>...</th>\n",
       "      <th>...</th>\n",
       "      <td>...</td>\n",
       "      <td>...</td>\n",
       "    </tr>\n",
       "    <tr>\n",
       "      <th rowspan=\"5\" valign=\"top\">2017</th>\n",
       "      <th>Roraima</th>\n",
       "      <td>1101.0</td>\n",
       "      <td>11</td>\n",
       "    </tr>\n",
       "    <tr>\n",
       "      <th>Santa Catarina</th>\n",
       "      <td>2354.0</td>\n",
       "      <td>11</td>\n",
       "    </tr>\n",
       "    <tr>\n",
       "      <th>Sao Paulo</th>\n",
       "      <td>2538.0</td>\n",
       "      <td>10</td>\n",
       "    </tr>\n",
       "    <tr>\n",
       "      <th>Sergipe</th>\n",
       "      <td>75.0</td>\n",
       "      <td>11</td>\n",
       "    </tr>\n",
       "    <tr>\n",
       "      <th>Tocantins</th>\n",
       "      <td>1358.0</td>\n",
       "      <td>6</td>\n",
       "    </tr>\n",
       "  </tbody>\n",
       "</table>\n",
       "<p>440 rows × 2 columns</p>\n",
       "</div>"
      ],
      "text/plain": [
       "                     number  isInteger\n",
       "year state                            \n",
       "1998 Alagoas           86.0         12\n",
       "     Amapa            278.0         12\n",
       "     Amazonas         946.0         12\n",
       "     Bahia           1220.0         10\n",
       "     Ceara           1611.0         11\n",
       "...                     ...        ...\n",
       "2017 Roraima         1101.0         11\n",
       "     Santa Catarina  2354.0         11\n",
       "     Sao Paulo       2538.0         10\n",
       "     Sergipe           75.0         11\n",
       "     Tocantins       1358.0          6\n",
       "\n",
       "[440 rows x 2 columns]"
      ]
     },
     "execution_count": 14,
     "metadata": {},
     "output_type": "execute_result"
    }
   ],
   "source": [
    "# We group the number of fires in each state for each year\n",
    "grouped_df = newDf.groupby(by=['year','state']).sum()\n",
    "grouped_df"
   ]
  },
  {
   "cell_type": "code",
   "execution_count": 16,
   "id": "dressed-cartoon",
   "metadata": {},
   "outputs": [],
   "source": [
    "# reset index to flatten the dataframe\n",
    "grouped_df.reset_index(inplace=True)"
   ]
  },
  {
   "cell_type": "code",
   "execution_count": 33,
   "id": "velvet-mobile",
   "metadata": {},
   "outputs": [],
   "source": [
    "limited_grouped_df = grouped_df[grouped_df['number']>500]"
   ]
  },
  {
   "cell_type": "code",
   "execution_count": 34,
   "id": "southern-pantyhose",
   "metadata": {},
   "outputs": [
    {
     "name": "stderr",
     "output_type": "stream",
     "text": [
      "<ipython-input-34-9ea9fa04967e>:1: SettingWithCopyWarning: \n",
      "A value is trying to be set on a copy of a slice from a DataFrame.\n",
      "Try using .loc[row_indexer,col_indexer] = value instead\n",
      "\n",
      "See the caveats in the documentation: https://pandas.pydata.org/pandas-docs/stable/user_guide/indexing.html#returning-a-view-versus-a-copy\n",
      "  limited_grouped_df['year'] = pd.to_datetime(grouped_df['year'], format='%Y')\n"
     ]
    }
   ],
   "source": [
    "limited_grouped_df['year'] = pd.to_datetime(grouped_df['year'], format='%Y')"
   ]
  },
  {
   "cell_type": "code",
   "execution_count": 35,
   "id": "everyday-bloom",
   "metadata": {},
   "outputs": [
    {
     "data": {
      "text/plain": [
       "Text(0, 0.5, 'Number of incidents')"
      ]
     },
     "execution_count": 35,
     "metadata": {},
     "output_type": "execute_result"
    },
    {
     "data": {
      "image/png": "[encoded data removed]",
      "text/plain": [
       "<Figure size 1440x720 with 1 Axes>"
      ]
     },
     "metadata": {
      "needs_background": "light"
     },
     "output_type": "display_data"
    }
   ],
   "source": [
    "limited_grouped_df.pivot(index='year', columns='state', values='number').plot(figsize=(20,10), marker='x')\n",
    "plt.legend(loc='center left', bbox_to_anchor=(1.0, 0.5))\n",
    "plt.title(\"Number of Forest Fire over years\")\n",
    "plt.ylabel(\"Number of incidents\")"
   ]
  },
  {
   "cell_type": "code",
   "execution_count": 38,
   "id": "framed-hollywood",
   "metadata": {},
   "outputs": [
    {
     "data": {
      "text/html": [
       "<div>\n",
       "<style scoped>\n",
       "    .dataframe tbody tr th:only-of-type {\n",
       "        vertical-align: middle;\n",
       "    }\n",
       "\n",
       "    .dataframe tbody tr th {\n",
       "        vertical-align: top;\n",
       "    }\n",
       "\n",
       "    .dataframe thead th {\n",
       "        text-align: right;\n",
       "    }\n",
       "</style>\n",
       "<table border=\"1\" class=\"dataframe\">\n",
       "  <thead>\n",
       "    <tr style=\"text-align: right;\">\n",
       "      <th></th>\n",
       "      <th>year</th>\n",
       "      <th>state</th>\n",
       "      <th>number</th>\n",
       "      <th>isInteger</th>\n",
       "    </tr>\n",
       "  </thead>\n",
       "  <tbody>\n",
       "    <tr>\n",
       "      <th>19</th>\n",
       "      <td>1998-01-01</td>\n",
       "      <td>Sao Paulo</td>\n",
       "      <td>3196.0</td>\n",
       "      <td>12</td>\n",
       "    </tr>\n",
       "    <tr>\n",
       "      <th>41</th>\n",
       "      <td>1999-01-01</td>\n",
       "      <td>Sao Paulo</td>\n",
       "      <td>4248.0</td>\n",
       "      <td>11</td>\n",
       "    </tr>\n",
       "    <tr>\n",
       "      <th>63</th>\n",
       "      <td>2000-01-01</td>\n",
       "      <td>Sao Paulo</td>\n",
       "      <td>4128.0</td>\n",
       "      <td>12</td>\n",
       "    </tr>\n",
       "    <tr>\n",
       "      <th>85</th>\n",
       "      <td>2001-01-01</td>\n",
       "      <td>Sao Paulo</td>\n",
       "      <td>2926.0</td>\n",
       "      <td>12</td>\n",
       "    </tr>\n",
       "    <tr>\n",
       "      <th>107</th>\n",
       "      <td>2002-01-01</td>\n",
       "      <td>Sao Paulo</td>\n",
       "      <td>3539.0</td>\n",
       "      <td>12</td>\n",
       "    </tr>\n",
       "  </tbody>\n",
       "</table>\n",
       "</div>"
      ],
      "text/plain": [
       "          year      state  number  isInteger\n",
       "19  1998-01-01  Sao Paulo  3196.0         12\n",
       "41  1999-01-01  Sao Paulo  4248.0         11\n",
       "63  2000-01-01  Sao Paulo  4128.0         12\n",
       "85  2001-01-01  Sao Paulo  2926.0         12\n",
       "107 2002-01-01  Sao Paulo  3539.0         12"
      ]
     },
     "execution_count": 38,
     "metadata": {},
     "output_type": "execute_result"
    }
   ],
   "source": [
    "# to identify which blue color on the graph is Sao Paulo we look at the first datapoint\n",
    "limited_grouped_df[limited_grouped_df['state'] =='Sao Paulo'].head()"
   ]
  },
  {
   "cell_type": "code",
   "execution_count": 39,
   "id": "primary-protest",
   "metadata": {},
   "outputs": [
    {
     "data": {
      "text/html": [
       "<div>\n",
       "<style scoped>\n",
       "    .dataframe tbody tr th:only-of-type {\n",
       "        vertical-align: middle;\n",
       "    }\n",
       "\n",
       "    .dataframe tbody tr th {\n",
       "        vertical-align: top;\n",
       "    }\n",
       "\n",
       "    .dataframe thead th {\n",
       "        text-align: right;\n",
       "    }\n",
       "</style>\n",
       "<table border=\"1\" class=\"dataframe\">\n",
       "  <thead>\n",
       "    <tr style=\"text-align: right;\">\n",
       "      <th></th>\n",
       "      <th>year</th>\n",
       "      <th>state</th>\n",
       "      <th>number</th>\n",
       "      <th>isInteger</th>\n",
       "    </tr>\n",
       "  </thead>\n",
       "  <tbody>\n",
       "    <tr>\n",
       "      <th>9</th>\n",
       "      <td>1998-01-01</td>\n",
       "      <td>Mato Grosso</td>\n",
       "      <td>2367.0</td>\n",
       "      <td>19</td>\n",
       "    </tr>\n",
       "    <tr>\n",
       "      <th>31</th>\n",
       "      <td>1999-01-01</td>\n",
       "      <td>Mato Grosso</td>\n",
       "      <td>2925.0</td>\n",
       "      <td>14</td>\n",
       "    </tr>\n",
       "    <tr>\n",
       "      <th>53</th>\n",
       "      <td>2000-01-01</td>\n",
       "      <td>Mato Grosso</td>\n",
       "      <td>3872.0</td>\n",
       "      <td>18</td>\n",
       "    </tr>\n",
       "    <tr>\n",
       "      <th>75</th>\n",
       "      <td>2001-01-01</td>\n",
       "      <td>Mato Grosso</td>\n",
       "      <td>3052.0</td>\n",
       "      <td>16</td>\n",
       "    </tr>\n",
       "    <tr>\n",
       "      <th>97</th>\n",
       "      <td>2002-01-01</td>\n",
       "      <td>Mato Grosso</td>\n",
       "      <td>3601.0</td>\n",
       "      <td>12</td>\n",
       "    </tr>\n",
       "  </tbody>\n",
       "</table>\n",
       "</div>"
      ],
      "text/plain": [
       "         year        state  number  isInteger\n",
       "9  1998-01-01  Mato Grosso  2367.0         19\n",
       "31 1999-01-01  Mato Grosso  2925.0         14\n",
       "53 2000-01-01  Mato Grosso  3872.0         18\n",
       "75 2001-01-01  Mato Grosso  3052.0         16\n",
       "97 2002-01-01  Mato Grosso  3601.0         12"
      ]
     },
     "execution_count": 39,
     "metadata": {},
     "output_type": "execute_result"
    }
   ],
   "source": [
    "limited_grouped_df[limited_grouped_df['state'] =='Mato Grosso'].head()"
   ]
  },
  {
   "cell_type": "markdown",
   "id": "completed-madness",
   "metadata": {},
   "source": [
    "Looking at graph above, we do not see a positive trend of forest fires across the states. We can see, however that the state of Mato Grosso has seen more forest fires consistently. This graph could be used to give a rough estimate of how forest fire prevention facilities might be allocated based on the number of incidents."
   ]
  },
  {
   "cell_type": "code",
   "execution_count": 41,
   "id": "universal-closer",
   "metadata": {},
   "outputs": [],
   "source": [
    "# we use Nominatim API to find lon lat of different states\n",
    "geolocator = Nominatim(user_agent=\"MyApp\")"
   ]
  },
  {
   "cell_type": "code",
   "execution_count": 60,
   "id": "ideal-flood",
   "metadata": {},
   "outputs": [],
   "source": [
    "location = geolocator.geocode(\"Amazonas\")"
   ]
  },
  {
   "cell_type": "code",
   "execution_count": 61,
   "id": "superb-kingdom",
   "metadata": {},
   "outputs": [
    {
     "data": {
      "text/plain": [
       "-4.479925"
      ]
     },
     "execution_count": 61,
     "metadata": {},
     "output_type": "execute_result"
    }
   ],
   "source": [
    "location.latitude"
   ]
  },
  {
   "cell_type": "code",
   "execution_count": 46,
   "id": "female-preserve",
   "metadata": {},
   "outputs": [
    {
     "data": {
      "text/plain": [
       "-55.5716547"
      ]
     },
     "execution_count": 46,
     "metadata": {},
     "output_type": "execute_result"
    }
   ],
   "source": [
    "location.longitude"
   ]
  },
  {
   "cell_type": "code",
   "execution_count": 56,
   "id": "moderate-constant",
   "metadata": {},
   "outputs": [
    {
     "name": "stderr",
     "output_type": "stream",
     "text": [
      "<ipython-input-56-3fd7afeaaf46>:2: SettingWithCopyWarning: \n",
      "A value is trying to be set on a copy of a slice from a DataFrame.\n",
      "Try using .loc[row_indexer,col_indexer] = value instead\n",
      "\n",
      "See the caveats in the documentation: https://pandas.pydata.org/pandas-docs/stable/user_guide/indexing.html#returning-a-view-versus-a-copy\n",
      "  limited_grouped_df['latitude'] = np.zeros(len(limited_grouped_df))\n"
     ]
    }
   ],
   "source": [
    "# now we create lat lon columns for the whole dataframe\n",
    "limited_grouped_df['latitude'] = np.zeros(len(limited_grouped_df))"
   ]
  },
  {
   "cell_type": "code",
   "execution_count": 55,
   "id": "backed-means",
   "metadata": {},
   "outputs": [
    {
     "name": "stderr",
     "output_type": "stream",
     "text": [
      "<ipython-input-55-856603c69bc0>:1: SettingWithCopyWarning: \n",
      "A value is trying to be set on a copy of a slice from a DataFrame.\n",
      "Try using .loc[row_indexer,col_indexer] = value instead\n",
      "\n",
      "See the caveats in the documentation: https://pandas.pydata.org/pandas-docs/stable/user_guide/indexing.html#returning-a-view-versus-a-copy\n",
      "  limited_grouped_df['longitude'] = np.zeros(len(limited_grouped_df))\n"
     ]
    }
   ],
   "source": [
    "\n",
    "limited_grouped_df['longitude'] = np.zeros(len(limited_grouped_df))"
   ]
  },
  {
   "cell_type": "code",
   "execution_count": 57,
   "id": "contemporary-thursday",
   "metadata": {},
   "outputs": [
    {
     "data": {
      "text/html": [
       "<div>\n",
       "<style scoped>\n",
       "    .dataframe tbody tr th:only-of-type {\n",
       "        vertical-align: middle;\n",
       "    }\n",
       "\n",
       "    .dataframe tbody tr th {\n",
       "        vertical-align: top;\n",
       "    }\n",
       "\n",
       "    .dataframe thead th {\n",
       "        text-align: right;\n",
       "    }\n",
       "</style>\n",
       "<table border=\"1\" class=\"dataframe\">\n",
       "  <thead>\n",
       "    <tr style=\"text-align: right;\">\n",
       "      <th></th>\n",
       "      <th>year</th>\n",
       "      <th>state</th>\n",
       "      <th>number</th>\n",
       "      <th>isInteger</th>\n",
       "      <th>latitude</th>\n",
       "      <th>longitude</th>\n",
       "    </tr>\n",
       "  </thead>\n",
       "  <tbody>\n",
       "    <tr>\n",
       "      <th>2</th>\n",
       "      <td>1998-01-01</td>\n",
       "      <td>Amazonas</td>\n",
       "      <td>946.0</td>\n",
       "      <td>12</td>\n",
       "      <td>0.0</td>\n",
       "      <td>0.0</td>\n",
       "    </tr>\n",
       "    <tr>\n",
       "      <th>3</th>\n",
       "      <td>1998-01-01</td>\n",
       "      <td>Bahia</td>\n",
       "      <td>1220.0</td>\n",
       "      <td>10</td>\n",
       "      <td>0.0</td>\n",
       "      <td>0.0</td>\n",
       "    </tr>\n",
       "    <tr>\n",
       "      <th>4</th>\n",
       "      <td>1998-01-01</td>\n",
       "      <td>Ceara</td>\n",
       "      <td>1611.0</td>\n",
       "      <td>11</td>\n",
       "      <td>0.0</td>\n",
       "      <td>0.0</td>\n",
       "    </tr>\n",
       "    <tr>\n",
       "      <th>7</th>\n",
       "      <td>1998-01-01</td>\n",
       "      <td>Goias</td>\n",
       "      <td>744.0</td>\n",
       "      <td>9</td>\n",
       "      <td>0.0</td>\n",
       "      <td>0.0</td>\n",
       "    </tr>\n",
       "    <tr>\n",
       "      <th>9</th>\n",
       "      <td>1998-01-01</td>\n",
       "      <td>Mato Grosso</td>\n",
       "      <td>2367.0</td>\n",
       "      <td>19</td>\n",
       "      <td>0.0</td>\n",
       "      <td>0.0</td>\n",
       "    </tr>\n",
       "    <tr>\n",
       "      <th>...</th>\n",
       "      <td>...</td>\n",
       "      <td>...</td>\n",
       "      <td>...</td>\n",
       "      <td>...</td>\n",
       "      <td>...</td>\n",
       "      <td>...</td>\n",
       "    </tr>\n",
       "    <tr>\n",
       "      <th>434</th>\n",
       "      <td>2017-01-01</td>\n",
       "      <td>Rondonia</td>\n",
       "      <td>689.0</td>\n",
       "      <td>7</td>\n",
       "      <td>0.0</td>\n",
       "      <td>0.0</td>\n",
       "    </tr>\n",
       "    <tr>\n",
       "      <th>435</th>\n",
       "      <td>2017-01-01</td>\n",
       "      <td>Roraima</td>\n",
       "      <td>1101.0</td>\n",
       "      <td>11</td>\n",
       "      <td>0.0</td>\n",
       "      <td>0.0</td>\n",
       "    </tr>\n",
       "    <tr>\n",
       "      <th>436</th>\n",
       "      <td>2017-01-01</td>\n",
       "      <td>Santa Catarina</td>\n",
       "      <td>2354.0</td>\n",
       "      <td>11</td>\n",
       "      <td>0.0</td>\n",
       "      <td>0.0</td>\n",
       "    </tr>\n",
       "    <tr>\n",
       "      <th>437</th>\n",
       "      <td>2017-01-01</td>\n",
       "      <td>Sao Paulo</td>\n",
       "      <td>2538.0</td>\n",
       "      <td>10</td>\n",
       "      <td>0.0</td>\n",
       "      <td>0.0</td>\n",
       "    </tr>\n",
       "    <tr>\n",
       "      <th>439</th>\n",
       "      <td>2017-01-01</td>\n",
       "      <td>Tocantins</td>\n",
       "      <td>1358.0</td>\n",
       "      <td>6</td>\n",
       "      <td>0.0</td>\n",
       "      <td>0.0</td>\n",
       "    </tr>\n",
       "  </tbody>\n",
       "</table>\n",
       "<p>346 rows × 6 columns</p>\n",
       "</div>"
      ],
      "text/plain": [
       "          year           state  number  isInteger  latitude  longitude\n",
       "2   1998-01-01        Amazonas   946.0         12       0.0        0.0\n",
       "3   1998-01-01           Bahia  1220.0         10       0.0        0.0\n",
       "4   1998-01-01           Ceara  1611.0         11       0.0        0.0\n",
       "7   1998-01-01           Goias   744.0          9       0.0        0.0\n",
       "9   1998-01-01     Mato Grosso  2367.0         19       0.0        0.0\n",
       "..         ...             ...     ...        ...       ...        ...\n",
       "434 2017-01-01        Rondonia   689.0          7       0.0        0.0\n",
       "435 2017-01-01         Roraima  1101.0         11       0.0        0.0\n",
       "436 2017-01-01  Santa Catarina  2354.0         11       0.0        0.0\n",
       "437 2017-01-01       Sao Paulo  2538.0         10       0.0        0.0\n",
       "439 2017-01-01       Tocantins  1358.0          6       0.0        0.0\n",
       "\n",
       "[346 rows x 6 columns]"
      ]
     },
     "execution_count": 57,
     "metadata": {},
     "output_type": "execute_result"
    }
   ],
   "source": [
    "limited_grouped_df"
   ]
  },
  {
   "cell_type": "code",
   "execution_count": 65,
   "id": "reduced-crest",
   "metadata": {},
   "outputs": [],
   "source": [
    "import time"
   ]
  },
  {
   "cell_type": "code",
   "execution_count": null,
   "id": "geographic-traffic",
   "metadata": {
    "scrolled": true
   },
   "outputs": [],
   "source": [
    "for i, row in limited_grouped_df.iterrows():\n",
    "    print(row['state'])\n",
    "    location = geolocator.geocode(row['state'], timeout=10)\n",
    "    limited_grouped_df['latitude'][i] = location.latitude\n",
    "    limited_grouped_df['longitude'][i] = location.longitude\n",
    "    print(limited_grouped_df['latitude'][i])\n",
    "    "
   ]
  },
  {
   "cell_type": "markdown",
   "id": "guilty-treat",
   "metadata": {},
   "source": [
    "A more efficient way to get the location of states was to get the unique values existing in the state column and try to build a separate array of lon/lat for the states and fill in the dataframe using that array instead."
   ]
  },
  {
   "cell_type": "code",
   "execution_count": 71,
   "id": "artistic-threshold",
   "metadata": {},
   "outputs": [
    {
     "data": {
      "text/html": [
       "<div>\n",
       "<style scoped>\n",
       "    .dataframe tbody tr th:only-of-type {\n",
       "        vertical-align: middle;\n",
       "    }\n",
       "\n",
       "    .dataframe tbody tr th {\n",
       "        vertical-align: top;\n",
       "    }\n",
       "\n",
       "    .dataframe thead th {\n",
       "        text-align: right;\n",
       "    }\n",
       "</style>\n",
       "<table border=\"1\" class=\"dataframe\">\n",
       "  <thead>\n",
       "    <tr style=\"text-align: right;\">\n",
       "      <th></th>\n",
       "      <th>year</th>\n",
       "      <th>state</th>\n",
       "      <th>number</th>\n",
       "      <th>isInteger</th>\n",
       "      <th>latitude</th>\n",
       "      <th>longitude</th>\n",
       "    </tr>\n",
       "  </thead>\n",
       "  <tbody>\n",
       "    <tr>\n",
       "      <th>2</th>\n",
       "      <td>1998-01-01</td>\n",
       "      <td>Amazonas</td>\n",
       "      <td>946.0</td>\n",
       "      <td>12</td>\n",
       "      <td>-4.479925</td>\n",
       "      <td>-63.518540</td>\n",
       "    </tr>\n",
       "    <tr>\n",
       "      <th>3</th>\n",
       "      <td>1998-01-01</td>\n",
       "      <td>Bahia</td>\n",
       "      <td>1220.0</td>\n",
       "      <td>10</td>\n",
       "      <td>-12.285251</td>\n",
       "      <td>-41.929478</td>\n",
       "    </tr>\n",
       "    <tr>\n",
       "      <th>4</th>\n",
       "      <td>1998-01-01</td>\n",
       "      <td>Ceara</td>\n",
       "      <td>1611.0</td>\n",
       "      <td>11</td>\n",
       "      <td>-5.326470</td>\n",
       "      <td>-39.715607</td>\n",
       "    </tr>\n",
       "    <tr>\n",
       "      <th>7</th>\n",
       "      <td>1998-01-01</td>\n",
       "      <td>Goias</td>\n",
       "      <td>744.0</td>\n",
       "      <td>9</td>\n",
       "      <td>-15.932366</td>\n",
       "      <td>-50.139293</td>\n",
       "    </tr>\n",
       "    <tr>\n",
       "      <th>9</th>\n",
       "      <td>1998-01-01</td>\n",
       "      <td>Mato Grosso</td>\n",
       "      <td>2367.0</td>\n",
       "      <td>19</td>\n",
       "      <td>-12.211501</td>\n",
       "      <td>-55.571655</td>\n",
       "    </tr>\n",
       "    <tr>\n",
       "      <th>...</th>\n",
       "      <td>...</td>\n",
       "      <td>...</td>\n",
       "      <td>...</td>\n",
       "      <td>...</td>\n",
       "      <td>...</td>\n",
       "      <td>...</td>\n",
       "    </tr>\n",
       "    <tr>\n",
       "      <th>434</th>\n",
       "      <td>2017-01-01</td>\n",
       "      <td>Rondonia</td>\n",
       "      <td>689.0</td>\n",
       "      <td>7</td>\n",
       "      <td>-10.943145</td>\n",
       "      <td>-62.827786</td>\n",
       "    </tr>\n",
       "    <tr>\n",
       "      <th>435</th>\n",
       "      <td>2017-01-01</td>\n",
       "      <td>Roraima</td>\n",
       "      <td>1101.0</td>\n",
       "      <td>11</td>\n",
       "      <td>2.135138</td>\n",
       "      <td>-61.363192</td>\n",
       "    </tr>\n",
       "    <tr>\n",
       "      <th>436</th>\n",
       "      <td>2017-01-01</td>\n",
       "      <td>Santa Catarina</td>\n",
       "      <td>2354.0</td>\n",
       "      <td>11</td>\n",
       "      <td>-27.062837</td>\n",
       "      <td>-51.114965</td>\n",
       "    </tr>\n",
       "    <tr>\n",
       "      <th>437</th>\n",
       "      <td>2017-01-01</td>\n",
       "      <td>Sao Paulo</td>\n",
       "      <td>2538.0</td>\n",
       "      <td>10</td>\n",
       "      <td>-23.550651</td>\n",
       "      <td>-46.633382</td>\n",
       "    </tr>\n",
       "    <tr>\n",
       "      <th>439</th>\n",
       "      <td>2017-01-01</td>\n",
       "      <td>Tocantins</td>\n",
       "      <td>1358.0</td>\n",
       "      <td>6</td>\n",
       "      <td>-10.885513</td>\n",
       "      <td>-48.371691</td>\n",
       "    </tr>\n",
       "  </tbody>\n",
       "</table>\n",
       "<p>346 rows × 6 columns</p>\n",
       "</div>"
      ],
      "text/plain": [
       "          year           state  number  isInteger   latitude  longitude\n",
       "2   1998-01-01        Amazonas   946.0         12  -4.479925 -63.518540\n",
       "3   1998-01-01           Bahia  1220.0         10 -12.285251 -41.929478\n",
       "4   1998-01-01           Ceara  1611.0         11  -5.326470 -39.715607\n",
       "7   1998-01-01           Goias   744.0          9 -15.932366 -50.139293\n",
       "9   1998-01-01     Mato Grosso  2367.0         19 -12.211501 -55.571655\n",
       "..         ...             ...     ...        ...        ...        ...\n",
       "434 2017-01-01        Rondonia   689.0          7 -10.943145 -62.827786\n",
       "435 2017-01-01         Roraima  1101.0         11   2.135138 -61.363192\n",
       "436 2017-01-01  Santa Catarina  2354.0         11 -27.062837 -51.114965\n",
       "437 2017-01-01       Sao Paulo  2538.0         10 -23.550651 -46.633382\n",
       "439 2017-01-01       Tocantins  1358.0          6 -10.885513 -48.371691\n",
       "\n",
       "[346 rows x 6 columns]"
      ]
     },
     "execution_count": 71,
     "metadata": {},
     "output_type": "execute_result"
    }
   ],
   "source": [
    "limited_grouped_df"
   ]
  },
  {
   "cell_type": "code",
   "execution_count": 79,
   "id": "sticky-pound",
   "metadata": {},
   "outputs": [],
   "source": [
    "average_grouped_df = limited_grouped_df.groupby(['state']).mean()"
   ]
  },
  {
   "cell_type": "code",
   "execution_count": 83,
   "id": "fluid-occasions",
   "metadata": {},
   "outputs": [
    {
     "data": {
      "text/html": [
       "<div>\n",
       "<style scoped>\n",
       "    .dataframe tbody tr th:only-of-type {\n",
       "        vertical-align: middle;\n",
       "    }\n",
       "\n",
       "    .dataframe tbody tr th {\n",
       "        vertical-align: top;\n",
       "    }\n",
       "\n",
       "    .dataframe thead th {\n",
       "        text-align: right;\n",
       "    }\n",
       "</style>\n",
       "<table border=\"1\" class=\"dataframe\">\n",
       "  <thead>\n",
       "    <tr style=\"text-align: right;\">\n",
       "      <th></th>\n",
       "      <th>state</th>\n",
       "      <th>number</th>\n",
       "      <th>isInteger</th>\n",
       "      <th>latitude</th>\n",
       "      <th>longitude</th>\n",
       "    </tr>\n",
       "  </thead>\n",
       "  <tbody>\n",
       "    <tr>\n",
       "      <th>0</th>\n",
       "      <td>Alagoas</td>\n",
       "      <td>590.000000</td>\n",
       "      <td>12.000000</td>\n",
       "      <td>-9.661166</td>\n",
       "      <td>-36.650243</td>\n",
       "    </tr>\n",
       "    <tr>\n",
       "      <th>1</th>\n",
       "      <td>Amapa</td>\n",
       "      <td>1297.187500</td>\n",
       "      <td>11.687500</td>\n",
       "      <td>1.354544</td>\n",
       "      <td>-51.916198</td>\n",
       "    </tr>\n",
       "    <tr>\n",
       "      <th>2</th>\n",
       "      <td>Amazonas</td>\n",
       "      <td>1528.100000</td>\n",
       "      <td>10.150000</td>\n",
       "      <td>-4.479925</td>\n",
       "      <td>-63.518540</td>\n",
       "    </tr>\n",
       "    <tr>\n",
       "      <th>3</th>\n",
       "      <td>Bahia</td>\n",
       "      <td>2227.550000</td>\n",
       "      <td>9.200000</td>\n",
       "      <td>-12.285251</td>\n",
       "      <td>-41.929478</td>\n",
       "    </tr>\n",
       "    <tr>\n",
       "      <th>4</th>\n",
       "      <td>Ceara</td>\n",
       "      <td>1641.611111</td>\n",
       "      <td>10.500000</td>\n",
       "      <td>-5.326470</td>\n",
       "      <td>-39.715607</td>\n",
       "    </tr>\n",
       "    <tr>\n",
       "      <th>5</th>\n",
       "      <td>Distrito Federal</td>\n",
       "      <td>505.000000</td>\n",
       "      <td>12.000000</td>\n",
       "      <td>-15.775446</td>\n",
       "      <td>-47.797089</td>\n",
       "    </tr>\n",
       "    <tr>\n",
       "      <th>6</th>\n",
       "      <td>Espirito Santo</td>\n",
       "      <td>797.666667</td>\n",
       "      <td>12.000000</td>\n",
       "      <td>-19.568768</td>\n",
       "      <td>-40.172199</td>\n",
       "    </tr>\n",
       "    <tr>\n",
       "      <th>7</th>\n",
       "      <td>Goias</td>\n",
       "      <td>1880.900000</td>\n",
       "      <td>9.950000</td>\n",
       "      <td>-15.932366</td>\n",
       "      <td>-50.139293</td>\n",
       "    </tr>\n",
       "    <tr>\n",
       "      <th>8</th>\n",
       "      <td>Maranhao</td>\n",
       "      <td>1284.526316</td>\n",
       "      <td>6.631579</td>\n",
       "      <td>-5.208550</td>\n",
       "      <td>-45.393026</td>\n",
       "    </tr>\n",
       "    <tr>\n",
       "      <th>9</th>\n",
       "      <td>Mato Grosso</td>\n",
       "      <td>4774.900000</td>\n",
       "      <td>16.150000</td>\n",
       "      <td>-12.211501</td>\n",
       "      <td>-55.571655</td>\n",
       "    </tr>\n",
       "    <tr>\n",
       "      <th>10</th>\n",
       "      <td>Minas Gerais</td>\n",
       "      <td>1866.550000</td>\n",
       "      <td>9.350000</td>\n",
       "      <td>-18.526484</td>\n",
       "      <td>-44.158865</td>\n",
       "    </tr>\n",
       "    <tr>\n",
       "      <th>11</th>\n",
       "      <td>Paraiba</td>\n",
       "      <td>2621.050000</td>\n",
       "      <td>23.400000</td>\n",
       "      <td>-7.121937</td>\n",
       "      <td>-36.724684</td>\n",
       "    </tr>\n",
       "    <tr>\n",
       "      <th>12</th>\n",
       "      <td>Pará</td>\n",
       "      <td>1233.526316</td>\n",
       "      <td>6.842105</td>\n",
       "      <td>-4.749393</td>\n",
       "      <td>-52.897301</td>\n",
       "    </tr>\n",
       "    <tr>\n",
       "      <th>13</th>\n",
       "      <td>Pernambuco</td>\n",
       "      <td>1265.000000</td>\n",
       "      <td>11.947368</td>\n",
       "      <td>-8.411632</td>\n",
       "      <td>-37.591970</td>\n",
       "    </tr>\n",
       "    <tr>\n",
       "      <th>14</th>\n",
       "      <td>Piau</td>\n",
       "      <td>1882.950000</td>\n",
       "      <td>8.900000</td>\n",
       "      <td>-21.507474</td>\n",
       "      <td>-43.320587</td>\n",
       "    </tr>\n",
       "    <tr>\n",
       "      <th>15</th>\n",
       "      <td>Rio</td>\n",
       "      <td>2257.750000</td>\n",
       "      <td>35.600000</td>\n",
       "      <td>-22.911014</td>\n",
       "      <td>-43.209373</td>\n",
       "    </tr>\n",
       "    <tr>\n",
       "      <th>16</th>\n",
       "      <td>Rondonia</td>\n",
       "      <td>1132.117647</td>\n",
       "      <td>9.176471</td>\n",
       "      <td>-10.943145</td>\n",
       "      <td>-62.827786</td>\n",
       "    </tr>\n",
       "    <tr>\n",
       "      <th>17</th>\n",
       "      <td>Roraima</td>\n",
       "      <td>1398.647059</td>\n",
       "      <td>11.705882</td>\n",
       "      <td>2.135138</td>\n",
       "      <td>-61.363192</td>\n",
       "    </tr>\n",
       "    <tr>\n",
       "      <th>18</th>\n",
       "      <td>Santa Catarina</td>\n",
       "      <td>1464.250000</td>\n",
       "      <td>11.812500</td>\n",
       "      <td>-27.062837</td>\n",
       "      <td>-51.114965</td>\n",
       "    </tr>\n",
       "    <tr>\n",
       "      <th>19</th>\n",
       "      <td>Sao Paulo</td>\n",
       "      <td>2555.500000</td>\n",
       "      <td>11.600000</td>\n",
       "      <td>-23.550651</td>\n",
       "      <td>-46.633382</td>\n",
       "    </tr>\n",
       "    <tr>\n",
       "      <th>20</th>\n",
       "      <td>Tocantins</td>\n",
       "      <td>1674.850000</td>\n",
       "      <td>8.400000</td>\n",
       "      <td>-10.885513</td>\n",
       "      <td>-48.371691</td>\n",
       "    </tr>\n",
       "  </tbody>\n",
       "</table>\n",
       "</div>"
      ],
      "text/plain": [
       "               state       number  isInteger   latitude  longitude\n",
       "0            Alagoas   590.000000  12.000000  -9.661166 -36.650243\n",
       "1              Amapa  1297.187500  11.687500   1.354544 -51.916198\n",
       "2           Amazonas  1528.100000  10.150000  -4.479925 -63.518540\n",
       "3              Bahia  2227.550000   9.200000 -12.285251 -41.929478\n",
       "4              Ceara  1641.611111  10.500000  -5.326470 -39.715607\n",
       "5   Distrito Federal   505.000000  12.000000 -15.775446 -47.797089\n",
       "6     Espirito Santo   797.666667  12.000000 -19.568768 -40.172199\n",
       "7              Goias  1880.900000   9.950000 -15.932366 -50.139293\n",
       "8           Maranhao  1284.526316   6.631579  -5.208550 -45.393026\n",
       "9        Mato Grosso  4774.900000  16.150000 -12.211501 -55.571655\n",
       "10      Minas Gerais  1866.550000   9.350000 -18.526484 -44.158865\n",
       "11           Paraiba  2621.050000  23.400000  -7.121937 -36.724684\n",
       "12              Pará  1233.526316   6.842105  -4.749393 -52.897301\n",
       "13        Pernambuco  1265.000000  11.947368  -8.411632 -37.591970\n",
       "14              Piau  1882.950000   8.900000 -21.507474 -43.320587\n",
       "15               Rio  2257.750000  35.600000 -22.911014 -43.209373\n",
       "16          Rondonia  1132.117647   9.176471 -10.943145 -62.827786\n",
       "17           Roraima  1398.647059  11.705882   2.135138 -61.363192\n",
       "18    Santa Catarina  1464.250000  11.812500 -27.062837 -51.114965\n",
       "19         Sao Paulo  2555.500000  11.600000 -23.550651 -46.633382\n",
       "20         Tocantins  1674.850000   8.400000 -10.885513 -48.371691"
      ]
     },
     "execution_count": 83,
     "metadata": {},
     "output_type": "execute_result"
    }
   ],
   "source": [
    "average_grouped_df"
   ]
  },
  {
   "cell_type": "code",
   "execution_count": 82,
   "id": "clinical-advertising",
   "metadata": {},
   "outputs": [],
   "source": [
    "average_grouped_df.reset_index(inplace=True)"
   ]
  },
  {
   "cell_type": "code",
   "execution_count": 84,
   "id": "animated-ticket",
   "metadata": {},
   "outputs": [
    {
     "data": {
      "application/vnd.plotly.v1+json": {
       "config": {
        "plotlyServerURL": "https://plot.ly"
       },
       "data": [
        {
         "geo": "geo",
         "hovertemplate": "<b>%{hovertext}</b><br><br>state=Alagoas<br>number=%{marker.size}<br>latitude=%{lat}<br>longitude=%{lon}<extra></extra>",
         "hovertext": [
          "Alagoas"
         ],
         "lat": [
          -9.6611661
         ],
         "legendgroup": "Alagoas",
         "lon": [
          -36.6502426
         ],
         "marker": {
          "color": "#636efa",
          "size": [
           590
          ],
          "sizemode": "area",
          "sizeref": 11.937249999999999,
          "symbol": "circle"
         },
         "mode": "markers",
         "name": "Alagoas",
         "showlegend": true,
         "type": "scattergeo"
        },
        {
         "geo": "geo",
         "hovertemplate": "<b>%{hovertext}</b><br><br>state=Amapa<br>number=%{marker.size}<br>latitude=%{lat}<br>longitude=%{lon}<extra></extra>",
         "hovertext": [
          "Amapa"
         ],
         "lat": [
          1.3545441999999996
         ],
         "legendgroup": "Amapa",
         "lon": [
          -51.9161977
         ],
         "marker": {
          "color": "#EF553B",
          "size": [
           1297.1875
          ],
          "sizemode": "area",
          "sizeref": 11.937249999999999,
          "symbol": "circle"
         },
         "mode": "markers",
         "name": "Amapa",
         "showlegend": true,
         "type": "scattergeo"
        },
        {
         "geo": "geo",
         "hovertemplate": "<b>%{hovertext}</b><br><br>state=Amazonas<br>number=%{marker.size}<br>latitude=%{lat}<br>longitude=%{lon}<extra></extra>",
         "hovertext": [
          "Amazonas"
         ],
         "lat": [
          -4.479925
         ],
         "legendgroup": "Amazonas",
         "lon": [
          -63.51853959999996
         ],
         "marker": {
          "color": "#00cc96",
          "size": [
           1528.1
          ],
          "sizemode": "area",
          "sizeref": 11.937249999999999,
          "symbol": "circle"
         },
         "mode": "markers",
         "name": "Amazonas",
         "showlegend": true,
         "type": "scattergeo"
        },
        {
         "geo": "geo",
         "hovertemplate": "<b>%{hovertext}</b><br><br>state=Bahia<br>number=%{marker.size}<br>latitude=%{lat}<br>longitude=%{lon}<extra></extra>",
         "hovertext": [
          "Bahia"
         ],
         "lat": [
          -12.285250999999995
         ],
         "legendgroup": "Bahia",
         "lon": [
          -41.929477600000006
         ],
         "marker": {
          "color": "#ab63fa",
          "size": [
           2227.55
          ],
          "sizemode": "area",
          "sizeref": 11.937249999999999,
          "symbol": "circle"
         },
         "mode": "markers",
         "name": "Bahia",
         "showlegend": true,
         "type": "scattergeo"
        },
        {
         "geo": "geo",
         "hovertemplate": "<b>%{hovertext}</b><br><br>state=Ceara<br>number=%{marker.size}<br>latitude=%{lat}<br>longitude=%{lon}<extra></extra>",
         "hovertext": [
          "Ceara"
         ],
         "lat": [
          -5.326470299999999
         ],
         "legendgroup": "Ceara",
         "lon": [
          -39.715607299999995
         ],
         "marker": {
          "color": "#FFA15A",
          "size": [
           1641.611111111111
          ],
          "sizemode": "area",
          "sizeref": 11.937249999999999,
          "symbol": "circle"
         },
         "mode": "markers",
         "name": "Ceara",
         "showlegend": true,
         "type": "scattergeo"
        },
        {
         "geo": "geo",
         "hovertemplate": "<b>%{hovertext}</b><br><br>state=Distrito Federal<br>number=%{marker.size}<br>latitude=%{lat}<br>longitude=%{lon}<extra></extra>",
         "hovertext": [
          "Distrito Federal"
         ],
         "lat": [
          -15.7754462
         ],
         "legendgroup": "Distrito Federal",
         "lon": [
          -47.7970891
         ],
         "marker": {
          "color": "#19d3f3",
          "size": [
           505
          ],
          "sizemode": "area",
          "sizeref": 11.937249999999999,
          "symbol": "circle"
         },
         "mode": "markers",
         "name": "Distrito Federal",
         "showlegend": true,
         "type": "scattergeo"
        },
        {
         "geo": "geo",
         "hovertemplate": "<b>%{hovertext}</b><br><br>state=Espirito Santo<br>number=%{marker.size}<br>latitude=%{lat}<br>longitude=%{lon}<extra></extra>",
         "hovertext": [
          "Espirito Santo"
         ],
         "lat": [
          -19.5687682
         ],
         "legendgroup": "Espirito Santo",
         "lon": [
          -40.1721991
         ],
         "marker": {
          "color": "#FF6692",
          "size": [
           797.6666666666666
          ],
          "sizemode": "area",
          "sizeref": 11.937249999999999,
          "symbol": "circle"
         },
         "mode": "markers",
         "name": "Espirito Santo",
         "showlegend": true,
         "type": "scattergeo"
        },
        {
         "geo": "geo",
         "hovertemplate": "<b>%{hovertext}</b><br><br>state=Goias<br>number=%{marker.size}<br>latitude=%{lat}<br>longitude=%{lon}<extra></extra>",
         "hovertext": [
          "Goias"
         ],
         "lat": [
          -15.932366199999995
         ],
         "legendgroup": "Goias",
         "lon": [
          -50.139292800000014
         ],
         "marker": {
          "color": "#B6E880",
          "size": [
           1880.9
          ],
          "sizemode": "area",
          "sizeref": 11.937249999999999,
          "symbol": "circle"
         },
         "mode": "markers",
         "name": "Goias",
         "showlegend": true,
         "type": "scattergeo"
        },
        {
         "geo": "geo",
         "hovertemplate": "<b>%{hovertext}</b><br><br>state=Maranhao<br>number=%{marker.size}<br>latitude=%{lat}<br>longitude=%{lon}<extra></extra>",
         "hovertext": [
          "Maranhao"
         ],
         "lat": [
          -5.2085503
         ],
         "legendgroup": "Maranhao",
         "lon": [
          -45.3930262
         ],
         "marker": {
          "color": "#FF97FF",
          "size": [
           1284.5263157894738
          ],
          "sizemode": "area",
          "sizeref": 11.937249999999999,
          "symbol": "circle"
         },
         "mode": "markers",
         "name": "Maranhao",
         "showlegend": true,
         "type": "scattergeo"
        },
        {
         "geo": "geo",
         "hovertemplate": "<b>%{hovertext}</b><br><br>state=Mato Grosso<br>number=%{marker.size}<br>latitude=%{lat}<br>longitude=%{lon}<extra></extra>",
         "hovertext": [
          "Mato Grosso"
         ],
         "lat": [
          -12.211500900000003
         ],
         "legendgroup": "Mato Grosso",
         "lon": [
          -55.571654699999975
         ],
         "marker": {
          "color": "#FECB52",
          "size": [
           4774.9
          ],
          "sizemode": "area",
          "sizeref": 11.937249999999999,
          "symbol": "circle"
         },
         "mode": "markers",
         "name": "Mato Grosso",
         "showlegend": true,
         "type": "scattergeo"
        },
        {
         "geo": "geo",
         "hovertemplate": "<b>%{hovertext}</b><br><br>state=Minas Gerais<br>number=%{marker.size}<br>latitude=%{lat}<br>longitude=%{lon}<extra></extra>",
         "hovertext": [
          "Minas Gerais"
         ],
         "lat": [
          -18.526484400000008
         ],
         "legendgroup": "Minas Gerais",
         "lon": [
          -44.158865399999996
         ],
         "marker": {
          "color": "#636efa",
          "size": [
           1866.55
          ],
          "sizemode": "area",
          "sizeref": 11.937249999999999,
          "symbol": "circle"
         },
         "mode": "markers",
         "name": "Minas Gerais",
         "showlegend": true,
         "type": "scattergeo"
        },
        {
         "geo": "geo",
         "hovertemplate": "<b>%{hovertext}</b><br><br>state=Paraiba<br>number=%{marker.size}<br>latitude=%{lat}<br>longitude=%{lon}<extra></extra>",
         "hovertext": [
          "Paraiba"
         ],
         "lat": [
          -7.1219366
         ],
         "legendgroup": "Paraiba",
         "lon": [
          -36.724684499999995
         ],
         "marker": {
          "color": "#EF553B",
          "size": [
           2621.05
          ],
          "sizemode": "area",
          "sizeref": 11.937249999999999,
          "symbol": "circle"
         },
         "mode": "markers",
         "name": "Paraiba",
         "showlegend": true,
         "type": "scattergeo"
        },
        {
         "geo": "geo",
         "hovertemplate": "<b>%{hovertext}</b><br><br>state=Pará<br>number=%{marker.size}<br>latitude=%{lat}<br>longitude=%{lon}<extra></extra>",
         "hovertext": [
          "Pará"
         ],
         "lat": [
          -4.749393299999999
         ],
         "legendgroup": "Pará",
         "lon": [
          -52.8973006
         ],
         "marker": {
          "color": "#00cc96",
          "size": [
           1233.5263157894738
          ],
          "sizemode": "area",
          "sizeref": 11.937249999999999,
          "symbol": "circle"
         },
         "mode": "markers",
         "name": "Pará",
         "showlegend": true,
         "type": "scattergeo"
        },
        {
         "geo": "geo",
         "hovertemplate": "<b>%{hovertext}</b><br><br>state=Pernambuco<br>number=%{marker.size}<br>latitude=%{lat}<br>longitude=%{lon}<extra></extra>",
         "hovertext": [
          "Pernambuco"
         ],
         "lat": [
          -8.411631599999996
         ],
         "legendgroup": "Pernambuco",
         "lon": [
          -37.591969899999995
         ],
         "marker": {
          "color": "#ab63fa",
          "size": [
           1265
          ],
          "sizemode": "area",
          "sizeref": 11.937249999999999,
          "symbol": "circle"
         },
         "mode": "markers",
         "name": "Pernambuco",
         "showlegend": true,
         "type": "scattergeo"
        },
        {
         "geo": "geo",
         "hovertemplate": "<b>%{hovertext}</b><br><br>state=Piau<br>number=%{marker.size}<br>latitude=%{lat}<br>longitude=%{lon}<extra></extra>",
         "hovertext": [
          "Piau"
         ],
         "lat": [
          -21.507473800000007
         ],
         "legendgroup": "Piau",
         "lon": [
          -43.32058700000002
         ],
         "marker": {
          "color": "#FFA15A",
          "size": [
           1882.95
          ],
          "sizemode": "area",
          "sizeref": 11.937249999999999,
          "symbol": "circle"
         },
         "mode": "markers",
         "name": "Piau",
         "showlegend": true,
         "type": "scattergeo"
        },
        {
         "geo": "geo",
         "hovertemplate": "<b>%{hovertext}</b><br><br>state=Rio<br>number=%{marker.size}<br>latitude=%{lat}<br>longitude=%{lon}<extra></extra>",
         "hovertext": [
          "Rio"
         ],
         "lat": [
          -22.91101370000001
         ],
         "legendgroup": "Rio",
         "lon": [
          -43.20937270000001
         ],
         "marker": {
          "color": "#19d3f3",
          "size": [
           2257.75
          ],
          "sizemode": "area",
          "sizeref": 11.937249999999999,
          "symbol": "circle"
         },
         "mode": "markers",
         "name": "Rio",
         "showlegend": true,
         "type": "scattergeo"
        },
        {
         "geo": "geo",
         "hovertemplate": "<b>%{hovertext}</b><br><br>state=Rondonia<br>number=%{marker.size}<br>latitude=%{lat}<br>longitude=%{lon}<extra></extra>",
         "hovertext": [
          "Rondonia"
         ],
         "lat": [
          -10.943144999999996
         ],
         "legendgroup": "Rondonia",
         "lon": [
          -62.82778629999999
         ],
         "marker": {
          "color": "#FF6692",
          "size": [
           1132.1176470588234
          ],
          "sizemode": "area",
          "sizeref": 11.937249999999999,
          "symbol": "circle"
         },
         "mode": "markers",
         "name": "Rondonia",
         "showlegend": true,
         "type": "scattergeo"
        },
        {
         "geo": "geo",
         "hovertemplate": "<b>%{hovertext}</b><br><br>state=Roraima<br>number=%{marker.size}<br>latitude=%{lat}<br>longitude=%{lon}<extra></extra>",
         "hovertext": [
          "Roraima"
         ],
         "lat": [
          2.1351380000000004
         ],
         "legendgroup": "Roraima",
         "lon": [
          -61.363192199999986
         ],
         "marker": {
          "color": "#B6E880",
          "size": [
           1398.6470588235295
          ],
          "sizemode": "area",
          "sizeref": 11.937249999999999,
          "symbol": "circle"
         },
         "mode": "markers",
         "name": "Roraima",
         "showlegend": true,
         "type": "scattergeo"
        },
        {
         "geo": "geo",
         "hovertemplate": "<b>%{hovertext}</b><br><br>state=Santa Catarina<br>number=%{marker.size}<br>latitude=%{lat}<br>longitude=%{lon}<extra></extra>",
         "hovertext": [
          "Santa Catarina"
         ],
         "lat": [
          -27.062836699999995
         ],
         "legendgroup": "Santa Catarina",
         "lon": [
          -51.11496499999999
         ],
         "marker": {
          "color": "#FF97FF",
          "size": [
           1464.25
          ],
          "sizemode": "area",
          "sizeref": 11.937249999999999,
          "symbol": "circle"
         },
         "mode": "markers",
         "name": "Santa Catarina",
         "showlegend": true,
         "type": "scattergeo"
        },
        {
         "geo": "geo",
         "hovertemplate": "<b>%{hovertext}</b><br><br>state=Sao Paulo<br>number=%{marker.size}<br>latitude=%{lat}<br>longitude=%{lon}<extra></extra>",
         "hovertext": [
          "Sao Paulo"
         ],
         "lat": [
          -23.550650700000002
         ],
         "legendgroup": "Sao Paulo",
         "lon": [
          -46.63338239999999
         ],
         "marker": {
          "color": "#FECB52",
          "size": [
           2555.5
          ],
          "sizemode": "area",
          "sizeref": 11.937249999999999,
          "symbol": "circle"
         },
         "mode": "markers",
         "name": "Sao Paulo",
         "showlegend": true,
         "type": "scattergeo"
        },
        {
         "geo": "geo",
         "hovertemplate": "<b>%{hovertext}</b><br><br>state=Tocantins<br>number=%{marker.size}<br>latitude=%{lat}<br>longitude=%{lon}<extra></extra>",
         "hovertext": [
          "Tocantins"
         ],
         "lat": [
          -10.885512900000002
         ],
         "legendgroup": "Tocantins",
         "lon": [
          -48.371691199999994
         ],
         "marker": {
          "color": "#636efa",
          "size": [
           1674.85
          ],
          "sizemode": "area",
          "sizeref": 11.937249999999999,
          "symbol": "circle"
         },
         "mode": "markers",
         "name": "Tocantins",
         "showlegend": true,
         "type": "scattergeo"
        }
       ],
       "layout": {
        "geo": {
         "center": {},
         "domain": {
          "x": [
           0,
           1
          ],
          "y": [
           0,
           1
          ]
         },
         "projection": {
          "type": "natural earth"
         }
        },
        "legend": {
         "itemsizing": "constant",
         "title": {
          "text": "state"
         },
         "tracegroupgap": 0
        },
        "margin": {
         "t": 60
        },
        "template": {
         "data": {
          "bar": [
           {
            "error_x": {
             "color": "#2a3f5f"
            },
            "error_y": {
             "color": "#2a3f5f"
            },
            "marker": {
             "line": {
              "color": "#E5ECF6",
              "width": 0.5
             },
             "pattern": {
              "fillmode": "overlay",
              "size": 10,
              "solidity": 0.2
             }
            },
            "type": "bar"
           }
          ],
          "barpolar": [
           {
            "marker": {
             "line": {
              "color": "#E5ECF6",
              "width": 0.5
             },
             "pattern": {
              "fillmode": "overlay",
              "size": 10,
              "solidity": 0.2
             }
            },
            "type": "barpolar"
           }
          ],
          "carpet": [
           {
            "aaxis": {
             "endlinecolor": "#2a3f5f",
             "gridcolor": "white",
             "linecolor": "white",
             "minorgridcolor": "white",
             "startlinecolor": "#2a3f5f"
            },
            "baxis": {
             "endlinecolor": "#2a3f5f",
             "gridcolor": "white",
             "linecolor": "white",
             "minorgridcolor": "white",
             "startlinecolor": "#2a3f5f"
            },
            "type": "carpet"
           }
          ],
          "choropleth": [
           {
            "colorbar": {
             "outlinewidth": 0,
             "ticks": ""
            },
            "type": "choropleth"
           }
          ],
          "contour": [
           {
            "colorbar": {
             "outlinewidth": 0,
             "ticks": ""
            },
            "colorscale": [
             [
              0,
              "#0d0887"
             ],
             [
              0.1111111111111111,
              "#46039f"
             ],
             [
              0.2222222222222222,
              "#7201a8"
             ],
             [
              0.3333333333333333,
              "#9c179e"
             ],
             [
              0.4444444444444444,
              "#bd3786"
             ],
             [
              0.5555555555555556,
              "#d8576b"
             ],
             [
              0.6666666666666666,
              "#ed7953"
             ],
             [
              0.7777777777777778,
              "#fb9f3a"
             ],
             [
              0.8888888888888888,
              "#fdca26"
             ],
             [
              1,
              "#f0f921"
             ]
            ],
            "type": "contour"
           }
          ],
          "contourcarpet": [
           {
            "colorbar": {
             "outlinewidth": 0,
             "ticks": ""
            },
            "type": "contourcarpet"
           }
          ],
          "heatmap": [
           {
            "colorbar": {
             "outlinewidth": 0,
             "ticks": ""
            },
            "colorscale": [
             [
              0,
              "#0d0887"
             ],
             [
              0.1111111111111111,
              "#46039f"
             ],
             [
              0.2222222222222222,
              "#7201a8"
             ],
             [
              0.3333333333333333,
              "#9c179e"
             ],
             [
              0.4444444444444444,
              "#bd3786"
             ],
             [
              0.5555555555555556,
              "#d8576b"
             ],
             [
              0.6666666666666666,
              "#ed7953"
             ],
             [
              0.7777777777777778,
              "#fb9f3a"
             ],
             [
              0.8888888888888888,
              "#fdca26"
             ],
             [
              1,
              "#f0f921"
             ]
            ],
            "type": "heatmap"
           }
          ],
          "heatmapgl": [
           {
            "colorbar": {
             "outlinewidth": 0,
             "ticks": ""
            },
            "colorscale": [
             [
              0,
              "#0d0887"
             ],
             [
              0.1111111111111111,
              "#46039f"
             ],
             [
              0.2222222222222222,
              "#7201a8"
             ],
             [
              0.3333333333333333,
              "#9c179e"
             ],
             [
              0.4444444444444444,
              "#bd3786"
             ],
             [
              0.5555555555555556,
              "#d8576b"
             ],
             [
              0.6666666666666666,
              "#ed7953"
             ],
             [
              0.7777777777777778,
              "#fb9f3a"
             ],
             [
              0.8888888888888888,
              "#fdca26"
             ],
             [
              1,
              "#f0f921"
             ]
            ],
            "type": "heatmapgl"
           }
          ],
          "histogram": [
           {
            "marker": {
             "pattern": {
              "fillmode": "overlay",
              "size": 10,
              "solidity": 0.2
             }
            },
            "type": "histogram"
           }
          ],
          "histogram2d": [
           {
            "colorbar": {
             "outlinewidth": 0,
             "ticks": ""
            },
            "colorscale": [
             [
              0,
              "#0d0887"
             ],
             [
              0.1111111111111111,
              "#46039f"
             ],
             [
              0.2222222222222222,
              "#7201a8"
             ],
             [
              0.3333333333333333,
              "#9c179e"
             ],
             [
              0.4444444444444444,
              "#bd3786"
             ],
             [
              0.5555555555555556,
              "#d8576b"
             ],
             [
              0.6666666666666666,
              "#ed7953"
             ],
             [
              0.7777777777777778,
              "#fb9f3a"
             ],
             [
              0.8888888888888888,
              "#fdca26"
             ],
             [
              1,
              "#f0f921"
             ]
            ],
            "type": "histogram2d"
           }
          ],
          "histogram2dcontour": [
           {
            "colorbar": {
             "outlinewidth": 0,
             "ticks": ""
            },
            "colorscale": [
             [
              0,
              "#0d0887"
             ],
             [
              0.1111111111111111,
              "#46039f"
             ],
             [
              0.2222222222222222,
              "#7201a8"
             ],
             [
              0.3333333333333333,
              "#9c179e"
             ],
             [
              0.4444444444444444,
              "#bd3786"
             ],
             [
              0.5555555555555556,
              "#d8576b"
             ],
             [
              0.6666666666666666,
              "#ed7953"
             ],
             [
              0.7777777777777778,
              "#fb9f3a"
             ],
             [
              0.8888888888888888,
              "#fdca26"
             ],
             [
              1,
              "#f0f921"
             ]
            ],
            "type": "histogram2dcontour"
           }
          ],
          "mesh3d": [
           {
            "colorbar": {
             "outlinewidth": 0,
             "ticks": ""
            },
            "type": "mesh3d"
           }
          ],
          "parcoords": [
           {
            "line": {
             "colorbar": {
              "outlinewidth": 0,
              "ticks": ""
             }
            },
            "type": "parcoords"
           }
          ],
          "pie": [
           {
            "automargin": true,
            "type": "pie"
           }
          ],
          "scatter": [
           {
            "fillpattern": {
             "fillmode": "overlay",
             "size": 10,
             "solidity": 0.2
            },
            "type": "scatter"
           }
          ],
          "scatter3d": [
           {
            "line": {
             "colorbar": {
              "outlinewidth": 0,
              "ticks": ""
             }
            },
            "marker": {
             "colorbar": {
              "outlinewidth": 0,
              "ticks": ""
             }
            },
            "type": "scatter3d"
           }
          ],
          "scattercarpet": [
           {
            "marker": {
             "colorbar": {
              "outlinewidth": 0,
              "ticks": ""
             }
            },
            "type": "scattercarpet"
           }
          ],
          "scattergeo": [
           {
            "marker": {
             "colorbar": {
              "outlinewidth": 0,
              "ticks": ""
             }
            },
            "type": "scattergeo"
           }
          ],
          "scattergl": [
           {
            "marker": {
             "colorbar": {
              "outlinewidth": 0,
              "ticks": ""
             }
            },
            "type": "scattergl"
           }
          ],
          "scattermapbox": [
           {
            "marker": {
             "colorbar": {
              "outlinewidth": 0,
              "ticks": ""
             }
            },
            "type": "scattermapbox"
           }
          ],
          "scatterpolar": [
           {
            "marker": {
             "colorbar": {
              "outlinewidth": 0,
              "ticks": ""
             }
            },
            "type": "scatterpolar"
           }
          ],
          "scatterpolargl": [
           {
            "marker": {
             "colorbar": {
              "outlinewidth": 0,
              "ticks": ""
             }
            },
            "type": "scatterpolargl"
           }
          ],
          "scatterternary": [
           {
            "marker": {
             "colorbar": {
              "outlinewidth": 0,
              "ticks": ""
             }
            },
            "type": "scatterternary"
           }
          ],
          "surface": [
           {
            "colorbar": {
             "outlinewidth": 0,
             "ticks": ""
            },
            "colorscale": [
             [
              0,
              "#0d0887"
             ],
             [
              0.1111111111111111,
              "#46039f"
             ],
             [
              0.2222222222222222,
              "#7201a8"
             ],
             [
              0.3333333333333333,
              "#9c179e"
             ],
             [
              0.4444444444444444,
              "#bd3786"
             ],
             [
              0.5555555555555556,
              "#d8576b"
             ],
             [
              0.6666666666666666,
              "#ed7953"
             ],
             [
              0.7777777777777778,
              "#fb9f3a"
             ],
             [
              0.8888888888888888,
              "#fdca26"
             ],
             [
              1,
              "#f0f921"
             ]
            ],
            "type": "surface"
           }
          ],
          "table": [
           {
            "cells": {
             "fill": {
              "color": "#EBF0F8"
             },
             "line": {
              "color": "white"
             }
            },
            "header": {
             "fill": {
              "color": "#C8D4E3"
             },
             "line": {
              "color": "white"
             }
            },
            "type": "table"
           }
          ]
         },
         "layout": {
          "annotationdefaults": {
           "arrowcolor": "#2a3f5f",
           "arrowhead": 0,
           "arrowwidth": 1
          },
          "autotypenumbers": "strict",
          "coloraxis": {
           "colorbar": {
            "outlinewidth": 0,
            "ticks": ""
           }
          },
          "colorscale": {
           "diverging": [
            [
             0,
             "#8e0152"
            ],
            [
             0.1,
             "#c51b7d"
            ],
            [
             0.2,
             "#de77ae"
            ],
            [
             0.3,
             "#f1b6da"
            ],
            [
             0.4,
             "#fde0ef"
            ],
            [
             0.5,
             "#f7f7f7"
            ],
            [
             0.6,
             "#e6f5d0"
            ],
            [
             0.7,
             "#b8e186"
            ],
            [
             0.8,
             "#7fbc41"
            ],
            [
             0.9,
             "#4d9221"
            ],
            [
             1,
             "#276419"
            ]
           ],
           "sequential": [
            [
             0,
             "#0d0887"
            ],
            [
             0.1111111111111111,
             "#46039f"
            ],
            [
             0.2222222222222222,
             "#7201a8"
            ],
            [
             0.3333333333333333,
             "#9c179e"
            ],
            [
             0.4444444444444444,
             "#bd3786"
            ],
            [
             0.5555555555555556,
             "#d8576b"
            ],
            [
             0.6666666666666666,
             "#ed7953"
            ],
            [
             0.7777777777777778,
             "#fb9f3a"
            ],
            [
             0.8888888888888888,
             "#fdca26"
            ],
            [
             1,
             "#f0f921"
            ]
           ],
           "sequentialminus": [
            [
             0,
             "#0d0887"
            ],
            [
             0.1111111111111111,
             "#46039f"
            ],
            [
             0.2222222222222222,
             "#7201a8"
            ],
            [
             0.3333333333333333,
             "#9c179e"
            ],
            [
             0.4444444444444444,
             "#bd3786"
            ],
            [
             0.5555555555555556,
             "#d8576b"
            ],
            [
             0.6666666666666666,
             "#ed7953"
            ],
            [
             0.7777777777777778,
             "#fb9f3a"
            ],
            [
             0.8888888888888888,
             "#fdca26"
            ],
            [
             1,
             "#f0f921"
            ]
           ]
          },
          "colorway": [
           "#636efa",
           "#EF553B",
           "#00cc96",
           "#ab63fa",
           "#FFA15A",
           "#19d3f3",
           "#FF6692",
           "#B6E880",
           "#FF97FF",
           "#FECB52"
          ],
          "font": {
           "color": "#2a3f5f"
          },
          "geo": {
           "bgcolor": "white",
           "lakecolor": "white",
           "landcolor": "#E5ECF6",
           "showlakes": true,
           "showland": true,
           "subunitcolor": "white"
          },
          "hoverlabel": {
           "align": "left"
          },
          "hovermode": "closest",
          "mapbox": {
           "style": "light"
          },
          "paper_bgcolor": "white",
          "plot_bgcolor": "#E5ECF6",
          "polar": {
           "angularaxis": {
            "gridcolor": "white",
            "linecolor": "white",
            "ticks": ""
           },
           "bgcolor": "#E5ECF6",
           "radialaxis": {
            "gridcolor": "white",
            "linecolor": "white",
            "ticks": ""
           }
          },
          "scene": {
           "xaxis": {
            "backgroundcolor": "#E5ECF6",
            "gridcolor": "white",
            "gridwidth": 2,
            "linecolor": "white",
            "showbackground": true,
            "ticks": "",
            "zerolinecolor": "white"
           },
           "yaxis": {
            "backgroundcolor": "#E5ECF6",
            "gridcolor": "white",
            "gridwidth": 2,
            "linecolor": "white",
            "showbackground": true,
            "ticks": "",
            "zerolinecolor": "white"
           },
           "zaxis": {
            "backgroundcolor": "#E5ECF6",
            "gridcolor": "white",
            "gridwidth": 2,
            "linecolor": "white",
            "showbackground": true,
            "ticks": "",
            "zerolinecolor": "white"
           }
          },
          "shapedefaults": {
           "line": {
            "color": "#2a3f5f"
           }
          },
          "ternary": {
           "aaxis": {
            "gridcolor": "white",
            "linecolor": "white",
            "ticks": ""
           },
           "baxis": {
            "gridcolor": "white",
            "linecolor": "white",
            "ticks": ""
           },
           "bgcolor": "#E5ECF6",
           "caxis": {
            "gridcolor": "white",
            "linecolor": "white",
            "ticks": ""
           }
          },
          "title": {
           "x": 0.05
          },
          "xaxis": {
           "automargin": true,
           "gridcolor": "white",
           "linecolor": "white",
           "ticks": "",
           "title": {
            "standoff": 15
           },
           "zerolinecolor": "white",
           "zerolinewidth": 2
          },
          "yaxis": {
           "automargin": true,
           "gridcolor": "white",
           "linecolor": "white",
           "ticks": "",
           "title": {
            "standoff": 15
           },
           "zerolinecolor": "white",
           "zerolinewidth": 2
          }
         }
        }
       }
      },
      "text/html": [
       "<div>                            <div id=\"e8312101-9e62-43f7-b27f-81d241f853d1\" class=\"plotly-graph-div\" style=\"height:525px; width:100%;\"></div>            <script type=\"text/javascript\">                require([\"plotly\"], function(Plotly) {                    window.PLOTLYENV=window.PLOTLYENV || {};                                    if (document.getElementById(\"e8312101-9e62-43f7-b27f-81d241f853d1\")) {                    Plotly.newPlot(                        \"e8312101-9e62-43f7-b27f-81d241f853d1\",                        [{\"geo\":\"geo\",\"hovertemplate\":\"\\u003cb\\u003e%{hovertext}\\u003c\\u002fb\\u003e\\u003cbr\\u003e\\u003cbr\\u003estate=Alagoas\\u003cbr\\u003enumber=%{marker.size}\\u003cbr\\u003elatitude=%{lat}\\u003cbr\\u003elongitude=%{lon}\\u003cextra\\u003e\\u003c\\u002fextra\\u003e\",\"hovertext\":[\"Alagoas\"],\"lat\":[-9.6611661],\"legendgroup\":\"Alagoas\",\"lon\":[-36.6502426],\"marker\":{\"color\":\"#636efa\",\"size\":[590.0],\"sizemode\":\"area\",\"sizeref\":11.937249999999999,\"symbol\":\"circle\"},\"mode\":\"markers\",\"name\":\"Alagoas\",\"showlegend\":true,\"type\":\"scattergeo\"},{\"geo\":\"geo\",\"hovertemplate\":\"\\u003cb\\u003e%{hovertext}\\u003c\\u002fb\\u003e\\u003cbr\\u003e\\u003cbr\\u003estate=Amapa\\u003cbr\\u003enumber=%{marker.size}\\u003cbr\\u003elatitude=%{lat}\\u003cbr\\u003elongitude=%{lon}\\u003cextra\\u003e\\u003c\\u002fextra\\u003e\",\"hovertext\":[\"Amapa\"],\"lat\":[1.3545441999999996],\"legendgroup\":\"Amapa\",\"lon\":[-51.9161977],\"marker\":{\"color\":\"#EF553B\",\"size\":[1297.1875],\"sizemode\":\"area\",\"sizeref\":11.937249999999999,\"symbol\":\"circle\"},\"mode\":\"markers\",\"name\":\"Amapa\",\"showlegend\":true,\"type\":\"scattergeo\"},{\"geo\":\"geo\",\"hovertemplate\":\"\\u003cb\\u003e%{hovertext}\\u003c\\u002fb\\u003e\\u003cbr\\u003e\\u003cbr\\u003estate=Amazonas\\u003cbr\\u003enumber=%{marker.size}\\u003cbr\\u003elatitude=%{lat}\\u003cbr\\u003elongitude=%{lon}\\u003cextra\\u003e\\u003c\\u002fextra\\u003e\",\"hovertext\":[\"Amazonas\"],\"lat\":[-4.479925],\"legendgroup\":\"Amazonas\",\"lon\":[-63.51853959999996],\"marker\":{\"color\":\"#00cc96\",\"size\":[1528.1],\"sizemode\":\"area\",\"sizeref\":11.937249999999999,\"symbol\":\"circle\"},\"mode\":\"markers\",\"name\":\"Amazonas\",\"showlegend\":true,\"type\":\"scattergeo\"},{\"geo\":\"geo\",\"hovertemplate\":\"\\u003cb\\u003e%{hovertext}\\u003c\\u002fb\\u003e\\u003cbr\\u003e\\u003cbr\\u003estate=Bahia\\u003cbr\\u003enumber=%{marker.size}\\u003cbr\\u003elatitude=%{lat}\\u003cbr\\u003elongitude=%{lon}\\u003cextra\\u003e\\u003c\\u002fextra\\u003e\",\"hovertext\":[\"Bahia\"],\"lat\":[-12.285250999999995],\"legendgroup\":\"Bahia\",\"lon\":[-41.929477600000006],\"marker\":{\"color\":\"#ab63fa\",\"size\":[2227.55],\"sizemode\":\"area\",\"sizeref\":11.937249999999999,\"symbol\":\"circle\"},\"mode\":\"markers\",\"name\":\"Bahia\",\"showlegend\":true,\"type\":\"scattergeo\"},{\"geo\":\"geo\",\"hovertemplate\":\"\\u003cb\\u003e%{hovertext}\\u003c\\u002fb\\u003e\\u003cbr\\u003e\\u003cbr\\u003estate=Ceara\\u003cbr\\u003enumber=%{marker.size}\\u003cbr\\u003elatitude=%{lat}\\u003cbr\\u003elongitude=%{lon}\\u003cextra\\u003e\\u003c\\u002fextra\\u003e\",\"hovertext\":[\"Ceara\"],\"lat\":[-5.326470299999999],\"legendgroup\":\"Ceara\",\"lon\":[-39.715607299999995],\"marker\":{\"color\":\"#FFA15A\",\"size\":[1641.611111111111],\"sizemode\":\"area\",\"sizeref\":11.937249999999999,\"symbol\":\"circle\"},\"mode\":\"markers\",\"name\":\"Ceara\",\"showlegend\":true,\"type\":\"scattergeo\"},{\"geo\":\"geo\",\"hovertemplate\":\"\\u003cb\\u003e%{hovertext}\\u003c\\u002fb\\u003e\\u003cbr\\u003e\\u003cbr\\u003estate=Distrito Federal\\u003cbr\\u003enumber=%{marker.size}\\u003cbr\\u003elatitude=%{lat}\\u003cbr\\u003elongitude=%{lon}\\u003cextra\\u003e\\u003c\\u002fextra\\u003e\",\"hovertext\":[\"Distrito Federal\"],\"lat\":[-15.7754462],\"legendgroup\":\"Distrito Federal\",\"lon\":[-47.7970891],\"marker\":{\"color\":\"#19d3f3\",\"size\":[505.0],\"sizemode\":\"area\",\"sizeref\":11.937249999999999,\"symbol\":\"circle\"},\"mode\":\"markers\",\"name\":\"Distrito Federal\",\"showlegend\":true,\"type\":\"scattergeo\"},{\"geo\":\"geo\",\"hovertemplate\":\"\\u003cb\\u003e%{hovertext}\\u003c\\u002fb\\u003e\\u003cbr\\u003e\\u003cbr\\u003estate=Espirito Santo\\u003cbr\\u003enumber=%{marker.size}\\u003cbr\\u003elatitude=%{lat}\\u003cbr\\u003elongitude=%{lon}\\u003cextra\\u003e\\u003c\\u002fextra\\u003e\",\"hovertext\":[\"Espirito Santo\"],\"lat\":[-19.5687682],\"legendgroup\":\"Espirito Santo\",\"lon\":[-40.1721991],\"marker\":{\"color\":\"#FF6692\",\"size\":[797.6666666666666],\"sizemode\":\"area\",\"sizeref\":11.937249999999999,\"symbol\":\"circle\"},\"mode\":\"markers\",\"name\":\"Espirito Santo\",\"showlegend\":true,\"type\":\"scattergeo\"},{\"geo\":\"geo\",\"hovertemplate\":\"\\u003cb\\u003e%{hovertext}\\u003c\\u002fb\\u003e\\u003cbr\\u003e\\u003cbr\\u003estate=Goias\\u003cbr\\u003enumber=%{marker.size}\\u003cbr\\u003elatitude=%{lat}\\u003cbr\\u003elongitude=%{lon}\\u003cextra\\u003e\\u003c\\u002fextra\\u003e\",\"hovertext\":[\"Goias\"],\"lat\":[-15.932366199999995],\"legendgroup\":\"Goias\",\"lon\":[-50.139292800000014],\"marker\":{\"color\":\"#B6E880\",\"size\":[1880.9],\"sizemode\":\"area\",\"sizeref\":11.937249999999999,\"symbol\":\"circle\"},\"mode\":\"markers\",\"name\":\"Goias\",\"showlegend\":true,\"type\":\"scattergeo\"},{\"geo\":\"geo\",\"hovertemplate\":\"\\u003cb\\u003e%{hovertext}\\u003c\\u002fb\\u003e\\u003cbr\\u003e\\u003cbr\\u003estate=Maranhao\\u003cbr\\u003enumber=%{marker.size}\\u003cbr\\u003elatitude=%{lat}\\u003cbr\\u003elongitude=%{lon}\\u003cextra\\u003e\\u003c\\u002fextra\\u003e\",\"hovertext\":[\"Maranhao\"],\"lat\":[-5.2085503],\"legendgroup\":\"Maranhao\",\"lon\":[-45.3930262],\"marker\":{\"color\":\"#FF97FF\",\"size\":[1284.5263157894738],\"sizemode\":\"area\",\"sizeref\":11.937249999999999,\"symbol\":\"circle\"},\"mode\":\"markers\",\"name\":\"Maranhao\",\"showlegend\":true,\"type\":\"scattergeo\"},{\"geo\":\"geo\",\"hovertemplate\":\"\\u003cb\\u003e%{hovertext}\\u003c\\u002fb\\u003e\\u003cbr\\u003e\\u003cbr\\u003estate=Mato Grosso\\u003cbr\\u003enumber=%{marker.size}\\u003cbr\\u003elatitude=%{lat}\\u003cbr\\u003elongitude=%{lon}\\u003cextra\\u003e\\u003c\\u002fextra\\u003e\",\"hovertext\":[\"Mato Grosso\"],\"lat\":[-12.211500900000003],\"legendgroup\":\"Mato Grosso\",\"lon\":[-55.571654699999975],\"marker\":{\"color\":\"#FECB52\",\"size\":[4774.9],\"sizemode\":\"area\",\"sizeref\":11.937249999999999,\"symbol\":\"circle\"},\"mode\":\"markers\",\"name\":\"Mato Grosso\",\"showlegend\":true,\"type\":\"scattergeo\"},{\"geo\":\"geo\",\"hovertemplate\":\"\\u003cb\\u003e%{hovertext}\\u003c\\u002fb\\u003e\\u003cbr\\u003e\\u003cbr\\u003estate=Minas Gerais\\u003cbr\\u003enumber=%{marker.size}\\u003cbr\\u003elatitude=%{lat}\\u003cbr\\u003elongitude=%{lon}\\u003cextra\\u003e\\u003c\\u002fextra\\u003e\",\"hovertext\":[\"Minas Gerais\"],\"lat\":[-18.526484400000008],\"legendgroup\":\"Minas Gerais\",\"lon\":[-44.158865399999996],\"marker\":{\"color\":\"#636efa\",\"size\":[1866.55],\"sizemode\":\"area\",\"sizeref\":11.937249999999999,\"symbol\":\"circle\"},\"mode\":\"markers\",\"name\":\"Minas Gerais\",\"showlegend\":true,\"type\":\"scattergeo\"},{\"geo\":\"geo\",\"hovertemplate\":\"\\u003cb\\u003e%{hovertext}\\u003c\\u002fb\\u003e\\u003cbr\\u003e\\u003cbr\\u003estate=Paraiba\\u003cbr\\u003enumber=%{marker.size}\\u003cbr\\u003elatitude=%{lat}\\u003cbr\\u003elongitude=%{lon}\\u003cextra\\u003e\\u003c\\u002fextra\\u003e\",\"hovertext\":[\"Paraiba\"],\"lat\":[-7.1219366],\"legendgroup\":\"Paraiba\",\"lon\":[-36.724684499999995],\"marker\":{\"color\":\"#EF553B\",\"size\":[2621.05],\"sizemode\":\"area\",\"sizeref\":11.937249999999999,\"symbol\":\"circle\"},\"mode\":\"markers\",\"name\":\"Paraiba\",\"showlegend\":true,\"type\":\"scattergeo\"},{\"geo\":\"geo\",\"hovertemplate\":\"\\u003cb\\u003e%{hovertext}\\u003c\\u002fb\\u003e\\u003cbr\\u003e\\u003cbr\\u003estate=Par\\u00e1\\u003cbr\\u003enumber=%{marker.size}\\u003cbr\\u003elatitude=%{lat}\\u003cbr\\u003elongitude=%{lon}\\u003cextra\\u003e\\u003c\\u002fextra\\u003e\",\"hovertext\":[\"Par\\u00e1\"],\"lat\":[-4.749393299999999],\"legendgroup\":\"Par\\u00e1\",\"lon\":[-52.8973006],\"marker\":{\"color\":\"#00cc96\",\"size\":[1233.5263157894738],\"sizemode\":\"area\",\"sizeref\":11.937249999999999,\"symbol\":\"circle\"},\"mode\":\"markers\",\"name\":\"Par\\u00e1\",\"showlegend\":true,\"type\":\"scattergeo\"},{\"geo\":\"geo\",\"hovertemplate\":\"\\u003cb\\u003e%{hovertext}\\u003c\\u002fb\\u003e\\u003cbr\\u003e\\u003cbr\\u003estate=Pernambuco\\u003cbr\\u003enumber=%{marker.size}\\u003cbr\\u003elatitude=%{lat}\\u003cbr\\u003elongitude=%{lon}\\u003cextra\\u003e\\u003c\\u002fextra\\u003e\",\"hovertext\":[\"Pernambuco\"],\"lat\":[-8.411631599999996],\"legendgroup\":\"Pernambuco\",\"lon\":[-37.591969899999995],\"marker\":{\"color\":\"#ab63fa\",\"size\":[1265.0],\"sizemode\":\"area\",\"sizeref\":11.937249999999999,\"symbol\":\"circle\"},\"mode\":\"markers\",\"name\":\"Pernambuco\",\"showlegend\":true,\"type\":\"scattergeo\"},{\"geo\":\"geo\",\"hovertemplate\":\"\\u003cb\\u003e%{hovertext}\\u003c\\u002fb\\u003e\\u003cbr\\u003e\\u003cbr\\u003estate=Piau\\u003cbr\\u003enumber=%{marker.size}\\u003cbr\\u003elatitude=%{lat}\\u003cbr\\u003elongitude=%{lon}\\u003cextra\\u003e\\u003c\\u002fextra\\u003e\",\"hovertext\":[\"Piau\"],\"lat\":[-21.507473800000007],\"legendgroup\":\"Piau\",\"lon\":[-43.32058700000002],\"marker\":{\"color\":\"#FFA15A\",\"size\":[1882.95],\"sizemode\":\"area\",\"sizeref\":11.937249999999999,\"symbol\":\"circle\"},\"mode\":\"markers\",\"name\":\"Piau\",\"showlegend\":true,\"type\":\"scattergeo\"},{\"geo\":\"geo\",\"hovertemplate\":\"\\u003cb\\u003e%{hovertext}\\u003c\\u002fb\\u003e\\u003cbr\\u003e\\u003cbr\\u003estate=Rio\\u003cbr\\u003enumber=%{marker.size}\\u003cbr\\u003elatitude=%{lat}\\u003cbr\\u003elongitude=%{lon}\\u003cextra\\u003e\\u003c\\u002fextra\\u003e\",\"hovertext\":[\"Rio\"],\"lat\":[-22.91101370000001],\"legendgroup\":\"Rio\",\"lon\":[-43.20937270000001],\"marker\":{\"color\":\"#19d3f3\",\"size\":[2257.75],\"sizemode\":\"area\",\"sizeref\":11.937249999999999,\"symbol\":\"circle\"},\"mode\":\"markers\",\"name\":\"Rio\",\"showlegend\":true,\"type\":\"scattergeo\"},{\"geo\":\"geo\",\"hovertemplate\":\"\\u003cb\\u003e%{hovertext}\\u003c\\u002fb\\u003e\\u003cbr\\u003e\\u003cbr\\u003estate=Rondonia\\u003cbr\\u003enumber=%{marker.size}\\u003cbr\\u003elatitude=%{lat}\\u003cbr\\u003elongitude=%{lon}\\u003cextra\\u003e\\u003c\\u002fextra\\u003e\",\"hovertext\":[\"Rondonia\"],\"lat\":[-10.943144999999996],\"legendgroup\":\"Rondonia\",\"lon\":[-62.82778629999999],\"marker\":{\"color\":\"#FF6692\",\"size\":[1132.1176470588234],\"sizemode\":\"area\",\"sizeref\":11.937249999999999,\"symbol\":\"circle\"},\"mode\":\"markers\",\"name\":\"Rondonia\",\"showlegend\":true,\"type\":\"scattergeo\"},{\"geo\":\"geo\",\"hovertemplate\":\"\\u003cb\\u003e%{hovertext}\\u003c\\u002fb\\u003e\\u003cbr\\u003e\\u003cbr\\u003estate=Roraima\\u003cbr\\u003enumber=%{marker.size}\\u003cbr\\u003elatitude=%{lat}\\u003cbr\\u003elongitude=%{lon}\\u003cextra\\u003e\\u003c\\u002fextra\\u003e\",\"hovertext\":[\"Roraima\"],\"lat\":[2.1351380000000004],\"legendgroup\":\"Roraima\",\"lon\":[-61.363192199999986],\"marker\":{\"color\":\"#B6E880\",\"size\":[1398.6470588235295],\"sizemode\":\"area\",\"sizeref\":11.937249999999999,\"symbol\":\"circle\"},\"mode\":\"markers\",\"name\":\"Roraima\",\"showlegend\":true,\"type\":\"scattergeo\"},{\"geo\":\"geo\",\"hovertemplate\":\"\\u003cb\\u003e%{hovertext}\\u003c\\u002fb\\u003e\\u003cbr\\u003e\\u003cbr\\u003estate=Santa Catarina\\u003cbr\\u003enumber=%{marker.size}\\u003cbr\\u003elatitude=%{lat}\\u003cbr\\u003elongitude=%{lon}\\u003cextra\\u003e\\u003c\\u002fextra\\u003e\",\"hovertext\":[\"Santa Catarina\"],\"lat\":[-27.062836699999995],\"legendgroup\":\"Santa Catarina\",\"lon\":[-51.11496499999999],\"marker\":{\"color\":\"#FF97FF\",\"size\":[1464.25],\"sizemode\":\"area\",\"sizeref\":11.937249999999999,\"symbol\":\"circle\"},\"mode\":\"markers\",\"name\":\"Santa Catarina\",\"showlegend\":true,\"type\":\"scattergeo\"},{\"geo\":\"geo\",\"hovertemplate\":\"\\u003cb\\u003e%{hovertext}\\u003c\\u002fb\\u003e\\u003cbr\\u003e\\u003cbr\\u003estate=Sao Paulo\\u003cbr\\u003enumber=%{marker.size}\\u003cbr\\u003elatitude=%{lat}\\u003cbr\\u003elongitude=%{lon}\\u003cextra\\u003e\\u003c\\u002fextra\\u003e\",\"hovertext\":[\"Sao Paulo\"],\"lat\":[-23.550650700000002],\"legendgroup\":\"Sao Paulo\",\"lon\":[-46.63338239999999],\"marker\":{\"color\":\"#FECB52\",\"size\":[2555.5],\"sizemode\":\"area\",\"sizeref\":11.937249999999999,\"symbol\":\"circle\"},\"mode\":\"markers\",\"name\":\"Sao Paulo\",\"showlegend\":true,\"type\":\"scattergeo\"},{\"geo\":\"geo\",\"hovertemplate\":\"\\u003cb\\u003e%{hovertext}\\u003c\\u002fb\\u003e\\u003cbr\\u003e\\u003cbr\\u003estate=Tocantins\\u003cbr\\u003enumber=%{marker.size}\\u003cbr\\u003elatitude=%{lat}\\u003cbr\\u003elongitude=%{lon}\\u003cextra\\u003e\\u003c\\u002fextra\\u003e\",\"hovertext\":[\"Tocantins\"],\"lat\":[-10.885512900000002],\"legendgroup\":\"Tocantins\",\"lon\":[-48.371691199999994],\"marker\":{\"color\":\"#636efa\",\"size\":[1674.85],\"sizemode\":\"area\",\"sizeref\":11.937249999999999,\"symbol\":\"circle\"},\"mode\":\"markers\",\"name\":\"Tocantins\",\"showlegend\":true,\"type\":\"scattergeo\"}],                        {\"template\":{\"data\":{\"histogram2dcontour\":[{\"type\":\"histogram2dcontour\",\"colorbar\":{\"outlinewidth\":0,\"ticks\":\"\"},\"colorscale\":[[0.0,\"#0d0887\"],[0.1111111111111111,\"#46039f\"],[0.2222222222222222,\"#7201a8\"],[0.3333333333333333,\"#9c179e\"],[0.4444444444444444,\"#bd3786\"],[0.5555555555555556,\"#d8576b\"],[0.6666666666666666,\"#ed7953\"],[0.7777777777777778,\"#fb9f3a\"],[0.8888888888888888,\"#fdca26\"],[1.0,\"#f0f921\"]]}],\"choropleth\":[{\"type\":\"choropleth\",\"colorbar\":{\"outlinewidth\":0,\"ticks\":\"\"}}],\"histogram2d\":[{\"type\":\"histogram2d\",\"colorbar\":{\"outlinewidth\":0,\"ticks\":\"\"},\"colorscale\":[[0.0,\"#0d0887\"],[0.1111111111111111,\"#46039f\"],[0.2222222222222222,\"#7201a8\"],[0.3333333333333333,\"#9c179e\"],[0.4444444444444444,\"#bd3786\"],[0.5555555555555556,\"#d8576b\"],[0.6666666666666666,\"#ed7953\"],[0.7777777777777778,\"#fb9f3a\"],[0.8888888888888888,\"#fdca26\"],[1.0,\"#f0f921\"]]}],\"heatmap\":[{\"type\":\"heatmap\",\"colorbar\":{\"outlinewidth\":0,\"ticks\":\"\"},\"colorscale\":[[0.0,\"#0d0887\"],[0.1111111111111111,\"#46039f\"],[0.2222222222222222,\"#7201a8\"],[0.3333333333333333,\"#9c179e\"],[0.4444444444444444,\"#bd3786\"],[0.5555555555555556,\"#d8576b\"],[0.6666666666666666,\"#ed7953\"],[0.7777777777777778,\"#fb9f3a\"],[0.8888888888888888,\"#fdca26\"],[1.0,\"#f0f921\"]]}],\"heatmapgl\":[{\"type\":\"heatmapgl\",\"colorbar\":{\"outlinewidth\":0,\"ticks\":\"\"},\"colorscale\":[[0.0,\"#0d0887\"],[0.1111111111111111,\"#46039f\"],[0.2222222222222222,\"#7201a8\"],[0.3333333333333333,\"#9c179e\"],[0.4444444444444444,\"#bd3786\"],[0.5555555555555556,\"#d8576b\"],[0.6666666666666666,\"#ed7953\"],[0.7777777777777778,\"#fb9f3a\"],[0.8888888888888888,\"#fdca26\"],[1.0,\"#f0f921\"]]}],\"contourcarpet\":[{\"type\":\"contourcarpet\",\"colorbar\":{\"outlinewidth\":0,\"ticks\":\"\"}}],\"contour\":[{\"type\":\"contour\",\"colorbar\":{\"outlinewidth\":0,\"ticks\":\"\"},\"colorscale\":[[0.0,\"#0d0887\"],[0.1111111111111111,\"#46039f\"],[0.2222222222222222,\"#7201a8\"],[0.3333333333333333,\"#9c179e\"],[0.4444444444444444,\"#bd3786\"],[0.5555555555555556,\"#d8576b\"],[0.6666666666666666,\"#ed7953\"],[0.7777777777777778,\"#fb9f3a\"],[0.8888888888888888,\"#fdca26\"],[1.0,\"#f0f921\"]]}],\"surface\":[{\"type\":\"surface\",\"colorbar\":{\"outlinewidth\":0,\"ticks\":\"\"},\"colorscale\":[[0.0,\"#0d0887\"],[0.1111111111111111,\"#46039f\"],[0.2222222222222222,\"#7201a8\"],[0.3333333333333333,\"#9c179e\"],[0.4444444444444444,\"#bd3786\"],[0.5555555555555556,\"#d8576b\"],[0.6666666666666666,\"#ed7953\"],[0.7777777777777778,\"#fb9f3a\"],[0.8888888888888888,\"#fdca26\"],[1.0,\"#f0f921\"]]}],\"mesh3d\":[{\"type\":\"mesh3d\",\"colorbar\":{\"outlinewidth\":0,\"ticks\":\"\"}}],\"scatter\":[{\"fillpattern\":{\"fillmode\":\"overlay\",\"size\":10,\"solidity\":0.2},\"type\":\"scatter\"}],\"parcoords\":[{\"type\":\"parcoords\",\"line\":{\"colorbar\":{\"outlinewidth\":0,\"ticks\":\"\"}}}],\"scatterpolargl\":[{\"type\":\"scatterpolargl\",\"marker\":{\"colorbar\":{\"outlinewidth\":0,\"ticks\":\"\"}}}],\"bar\":[{\"error_x\":{\"color\":\"#2a3f5f\"},\"error_y\":{\"color\":\"#2a3f5f\"},\"marker\":{\"line\":{\"color\":\"#E5ECF6\",\"width\":0.5},\"pattern\":{\"fillmode\":\"overlay\",\"size\":10,\"solidity\":0.2}},\"type\":\"bar\"}],\"scattergeo\":[{\"type\":\"scattergeo\",\"marker\":{\"colorbar\":{\"outlinewidth\":0,\"ticks\":\"\"}}}],\"scatterpolar\":[{\"type\":\"scatterpolar\",\"marker\":{\"colorbar\":{\"outlinewidth\":0,\"ticks\":\"\"}}}],\"histogram\":[{\"marker\":{\"pattern\":{\"fillmode\":\"overlay\",\"size\":10,\"solidity\":0.2}},\"type\":\"histogram\"}],\"scattergl\":[{\"type\":\"scattergl\",\"marker\":{\"colorbar\":{\"outlinewidth\":0,\"ticks\":\"\"}}}],\"scatter3d\":[{\"type\":\"scatter3d\",\"line\":{\"colorbar\":{\"outlinewidth\":0,\"ticks\":\"\"}},\"marker\":{\"colorbar\":{\"outlinewidth\":0,\"ticks\":\"\"}}}],\"scattermapbox\":[{\"type\":\"scattermapbox\",\"marker\":{\"colorbar\":{\"outlinewidth\":0,\"ticks\":\"\"}}}],\"scatterternary\":[{\"type\":\"scatterternary\",\"marker\":{\"colorbar\":{\"outlinewidth\":0,\"ticks\":\"\"}}}],\"scattercarpet\":[{\"type\":\"scattercarpet\",\"marker\":{\"colorbar\":{\"outlinewidth\":0,\"ticks\":\"\"}}}],\"carpet\":[{\"aaxis\":{\"endlinecolor\":\"#2a3f5f\",\"gridcolor\":\"white\",\"linecolor\":\"white\",\"minorgridcolor\":\"white\",\"startlinecolor\":\"#2a3f5f\"},\"baxis\":{\"endlinecolor\":\"#2a3f5f\",\"gridcolor\":\"white\",\"linecolor\":\"white\",\"minorgridcolor\":\"white\",\"startlinecolor\":\"#2a3f5f\"},\"type\":\"carpet\"}],\"table\":[{\"cells\":{\"fill\":{\"color\":\"#EBF0F8\"},\"line\":{\"color\":\"white\"}},\"header\":{\"fill\":{\"color\":\"#C8D4E3\"},\"line\":{\"color\":\"white\"}},\"type\":\"table\"}],\"barpolar\":[{\"marker\":{\"line\":{\"color\":\"#E5ECF6\",\"width\":0.5},\"pattern\":{\"fillmode\":\"overlay\",\"size\":10,\"solidity\":0.2}},\"type\":\"barpolar\"}],\"pie\":[{\"automargin\":true,\"type\":\"pie\"}]},\"layout\":{\"autotypenumbers\":\"strict\",\"colorway\":[\"#636efa\",\"#EF553B\",\"#00cc96\",\"#ab63fa\",\"#FFA15A\",\"#19d3f3\",\"#FF6692\",\"#B6E880\",\"#FF97FF\",\"#FECB52\"],\"font\":{\"color\":\"#2a3f5f\"},\"hovermode\":\"closest\",\"hoverlabel\":{\"align\":\"left\"},\"paper_bgcolor\":\"white\",\"plot_bgcolor\":\"#E5ECF6\",\"polar\":{\"bgcolor\":\"#E5ECF6\",\"angularaxis\":{\"gridcolor\":\"white\",\"linecolor\":\"white\",\"ticks\":\"\"},\"radialaxis\":{\"gridcolor\":\"white\",\"linecolor\":\"white\",\"ticks\":\"\"}},\"ternary\":{\"bgcolor\":\"#E5ECF6\",\"aaxis\":{\"gridcolor\":\"white\",\"linecolor\":\"white\",\"ticks\":\"\"},\"baxis\":{\"gridcolor\":\"white\",\"linecolor\":\"white\",\"ticks\":\"\"},\"caxis\":{\"gridcolor\":\"white\",\"linecolor\":\"white\",\"ticks\":\"\"}},\"coloraxis\":{\"colorbar\":{\"outlinewidth\":0,\"ticks\":\"\"}},\"colorscale\":{\"sequential\":[[0.0,\"#0d0887\"],[0.1111111111111111,\"#46039f\"],[0.2222222222222222,\"#7201a8\"],[0.3333333333333333,\"#9c179e\"],[0.4444444444444444,\"#bd3786\"],[0.5555555555555556,\"#d8576b\"],[0.6666666666666666,\"#ed7953\"],[0.7777777777777778,\"#fb9f3a\"],[0.8888888888888888,\"#fdca26\"],[1.0,\"#f0f921\"]],\"sequentialminus\":[[0.0,\"#0d0887\"],[0.1111111111111111,\"#46039f\"],[0.2222222222222222,\"#7201a8\"],[0.3333333333333333,\"#9c179e\"],[0.4444444444444444,\"#bd3786\"],[0.5555555555555556,\"#d8576b\"],[0.6666666666666666,\"#ed7953\"],[0.7777777777777778,\"#fb9f3a\"],[0.8888888888888888,\"#fdca26\"],[1.0,\"#f0f921\"]],\"diverging\":[[0,\"#8e0152\"],[0.1,\"#c51b7d\"],[0.2,\"#de77ae\"],[0.3,\"#f1b6da\"],[0.4,\"#fde0ef\"],[0.5,\"#f7f7f7\"],[0.6,\"#e6f5d0\"],[0.7,\"#b8e186\"],[0.8,\"#7fbc41\"],[0.9,\"#4d9221\"],[1,\"#276419\"]]},\"xaxis\":{\"gridcolor\":\"white\",\"linecolor\":\"white\",\"ticks\":\"\",\"title\":{\"standoff\":15},\"zerolinecolor\":\"white\",\"automargin\":true,\"zerolinewidth\":2},\"yaxis\":{\"gridcolor\":\"white\",\"linecolor\":\"white\",\"ticks\":\"\",\"title\":{\"standoff\":15},\"zerolinecolor\":\"white\",\"automargin\":true,\"zerolinewidth\":2},\"scene\":{\"xaxis\":{\"backgroundcolor\":\"#E5ECF6\",\"gridcolor\":\"white\",\"linecolor\":\"white\",\"showbackground\":true,\"ticks\":\"\",\"zerolinecolor\":\"white\",\"gridwidth\":2},\"yaxis\":{\"backgroundcolor\":\"#E5ECF6\",\"gridcolor\":\"white\",\"linecolor\":\"white\",\"showbackground\":true,\"ticks\":\"\",\"zerolinecolor\":\"white\",\"gridwidth\":2},\"zaxis\":{\"backgroundcolor\":\"#E5ECF6\",\"gridcolor\":\"white\",\"linecolor\":\"white\",\"showbackground\":true,\"ticks\":\"\",\"zerolinecolor\":\"white\",\"gridwidth\":2}},\"shapedefaults\":{\"line\":{\"color\":\"#2a3f5f\"}},\"annotationdefaults\":{\"arrowcolor\":\"#2a3f5f\",\"arrowhead\":0,\"arrowwidth\":1},\"geo\":{\"bgcolor\":\"white\",\"landcolor\":\"#E5ECF6\",\"subunitcolor\":\"white\",\"showland\":true,\"showlakes\":true,\"lakecolor\":\"white\"},\"title\":{\"x\":0.05},\"mapbox\":{\"style\":\"light\"}}},\"geo\":{\"domain\":{\"x\":[0.0,1.0],\"y\":[0.0,1.0]},\"projection\":{\"type\":\"natural earth\"},\"center\":{}},\"legend\":{\"title\":{\"text\":\"state\"},\"tracegroupgap\":0,\"itemsizing\":\"constant\"},\"margin\":{\"t\":60}},                        {\"responsive\": true}                    ).then(function(){\n",
       "                            \n",
       "var gd = document.getElementById('e8312101-9e62-43f7-b27f-81d241f853d1');\n",
       "var x = new MutationObserver(function (mutations, observer) {{\n",
       "        var display = window.getComputedStyle(gd).display;\n",
       "        if (!display || display === 'none') {{\n",
       "            console.log([gd, 'removed!']);\n",
       "            Plotly.purge(gd);\n",
       "            observer.disconnect();\n",
       "        }}\n",
       "}});\n",
       "\n",
       "// Listen for the removal of the full notebook cells\n",
       "var notebookContainer = gd.closest('#notebook-container');\n",
       "if (notebookContainer) {{\n",
       "    x.observe(notebookContainer, {childList: true});\n",
       "}}\n",
       "\n",
       "// Listen for the clearing of the current output cell\n",
       "var outputEl = gd.closest('.output');\n",
       "if (outputEl) {{\n",
       "    x.observe(outputEl, {childList: true});\n",
       "}}\n",
       "\n",
       "                        })                };                });            </script>        </div>"
      ]
     },
     "metadata": {},
     "output_type": "display_data"
    }
   ],
   "source": [
    "\n",
    "fig = px.scatter_geo(average_grouped_df, lon = average_grouped_df['longitude'],\n",
    "            lat = average_grouped_df['latitude'], color=\"state\",\n",
    "                     hover_name=\"state\", size=\"number\",\n",
    "                     projection=\"natural earth\")\n",
    "fig.show()"
   ]
  },
  {
   "cell_type": "markdown",
   "id": "italian-strike",
   "metadata": {},
   "source": [
    "The size of the bubbles on the map show average number of forest fire incidents over the years in each state. We can see easily hover over diffrent states and get the average number of incidents along with the state names."
   ]
  }
 ],
 "metadata": {
  "kernelspec": {
   "display_name": "Python 3",
   "language": "python",
   "name": "python3"
  },
  "language_info": {
   "codemirror_mode": {
    "name": "ipython",
    "version": 3
   },
   "file_extension": ".py",
   "mimetype": "text/x-python",
   "name": "python",
   "nbconvert_exporter": "python",
   "pygments_lexer": "ipython3",
   "version": "3.9.1"
  }
 },
 "nbformat": 4,
 "nbformat_minor": 5
}
